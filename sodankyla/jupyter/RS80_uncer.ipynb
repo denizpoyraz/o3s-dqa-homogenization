{
 "cells": [
  {
   "cell_type": "code",
   "execution_count": 1,
   "metadata": {},
   "outputs": [],
   "source": [
    "import pandas as pd\n",
    "import numpy as np"
   ]
  },
  {
   "cell_type": "code",
   "execution_count": 2,
   "metadata": {},
   "outputs": [],
   "source": [
    "RS80_cor = np.array([0, -0.34, 0.05, -0.17, -0.47, -0.61, -0.70, -0.83, -0.85, -0.91, -0.94, -0.97, -0.98, -1.02, -1.02, -1.01, -0.94, -0.94,\n",
    "-1.01, -0.95,-1.00, -0.96, -0.98, -0.99, -1.00, -0.99, -1.01, -1.00, -1.06, -1.01, -1.04])\n",
    "RS80_cor_err = np.array([0, 1.57, 1.56, 1.46, 1.43, 1.33, 1.26, 1.26, 1.21, 1.17, 1.14, 1.15, 1.16, 1.16, 1.17, 1.29, 1.28, 1.20, 1.29, 1.41,\n",
    "1.36, 1.23, 1.31, 1.30, 1.39, 1.33, 1.35, 1.38, 1.40, 1.44, 1.60])"
   ]
  },
  {
   "cell_type": "code",
   "execution_count": 3,
   "metadata": {},
   "outputs": [
    {
     "name": "stderr",
     "output_type": "stream",
     "text": [
      "/home/poyraden/anaconda3/lib/python3.7/site-packages/ipykernel_launcher.py:1: RuntimeWarning: invalid value encountered in double_scalars\n",
      "  \"\"\"Entry point for launching an IPython kernel.\n"
     ]
    }
   ],
   "source": [
    "err = [i/j for i,j in zip(RS80_cor_err, RS80_cor)]"
   ]
  },
  {
   "cell_type": "code",
   "execution_count": 4,
   "metadata": {},
   "outputs": [
    {
     "data": {
      "text/plain": [
       "[nan,\n",
       " -4.617647058823529,\n",
       " 31.2,\n",
       " -8.588235294117647,\n",
       " -3.0425531914893615,\n",
       " -2.180327868852459,\n",
       " -1.8,\n",
       " -1.5180722891566265,\n",
       " -1.423529411764706,\n",
       " -1.2857142857142856,\n",
       " -1.2127659574468084,\n",
       " -1.1855670103092784,\n",
       " -1.183673469387755,\n",
       " -1.1372549019607843,\n",
       " -1.1470588235294117,\n",
       " -1.2772277227722773,\n",
       " -1.3617021276595747,\n",
       " -1.2765957446808511,\n",
       " -1.2772277227722773,\n",
       " -1.4842105263157894,\n",
       " -1.36,\n",
       " -1.28125,\n",
       " -1.336734693877551,\n",
       " -1.3131313131313131,\n",
       " -1.39,\n",
       " -1.3434343434343434,\n",
       " -1.3366336633663367,\n",
       " -1.38,\n",
       " -1.320754716981132,\n",
       " -1.4257425742574257,\n",
       " -1.5384615384615385]"
      ]
     },
     "execution_count": 4,
     "metadata": {},
     "output_type": "execute_result"
    }
   ],
   "source": [
    "err"
   ]
  },
  {
   "cell_type": "code",
   "execution_count": null,
   "metadata": {},
   "outputs": [],
   "source": []
  }
 ],
 "metadata": {
  "kernelspec": {
   "display_name": "Python 3",
   "language": "python",
   "name": "python3"
  },
  "language_info": {
   "codemirror_mode": {
    "name": "ipython",
    "version": 3
   },
   "file_extension": ".py",
   "mimetype": "text/x-python",
   "name": "python",
   "nbconvert_exporter": "python",
   "pygments_lexer": "ipython3",
   "version": "3.7.4"
  }
 },
 "nbformat": 4,
 "nbformat_minor": 2
}
