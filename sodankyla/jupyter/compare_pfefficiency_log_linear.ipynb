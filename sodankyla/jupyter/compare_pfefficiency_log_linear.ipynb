{
 "cells": [
  {
   "cell_type": "code",
   "execution_count": 15,
   "metadata": {},
   "outputs": [],
   "source": [
    "import pandas as pd\n",
    "import numpy as np\n",
    "import matplotlib.pyplot as plt\n"
   ]
  },
  {
   "cell_type": "code",
   "execution_count": 2,
   "metadata": {},
   "outputs": [],
   "source": [
    "dflin = pd.read_hdf('/home/poyraden/Analysis/Homogenization_public/Files/sodankyla/DQA/20030301_all_hom_lin.hdf')"
   ]
  },
  {
   "cell_type": "code",
   "execution_count": 3,
   "metadata": {},
   "outputs": [
    {
     "name": "stdout",
     "output_type": "stream",
     "text": [
      "['Pair', 'Time', 'Height', 'TboxK', 'TboxC', 'WindDirection', 'WindSpeed', 'O3', 'T', 'U', 'SensorType', 'SolutionVolume', 'Cef', 'ibg', 'iB2', 'CorP', 'Pcor', 'I', 'Date', 'Tpump', 'Phip', 'stoich', 'unc_stoich', 'eta_c', 'unc_eta', 'unc_eta_c', 'Tpump_cor', 'Cpf', 'unc_Cpf', 'Phip_cor', 'unc_Phip_cor', 'O3c', 'O3_nc', 'O3c_eta', 'O3c_bkg', 'O3c_etabkg', 'O3c_phip', 'O3c_etabkgphip', 'O3c_tpump', 'dIall', 'dEta', 'dPhi_cor', 'dTpump_cor', 'dO3']\n"
     ]
    }
   ],
   "source": [
    "print(list(dflin))"
   ]
  },
  {
   "cell_type": "code",
   "execution_count": 19,
   "metadata": {},
   "outputs": [
    {
     "data": {
      "text/html": [
       "<div>\n",
       "<style scoped>\n",
       "    .dataframe tbody tr th:only-of-type {\n",
       "        vertical-align: middle;\n",
       "    }\n",
       "\n",
       "    .dataframe tbody tr th {\n",
       "        vertical-align: top;\n",
       "    }\n",
       "\n",
       "    .dataframe thead th {\n",
       "        text-align: right;\n",
       "    }\n",
       "</style>\n",
       "<table border=\"1\" class=\"dataframe\">\n",
       "  <thead>\n",
       "    <tr style=\"text-align: right;\">\n",
       "      <th></th>\n",
       "      <th>Pair</th>\n",
       "      <th>Time</th>\n",
       "      <th>Cpf</th>\n",
       "    </tr>\n",
       "  </thead>\n",
       "  <tbody>\n",
       "    <tr>\n",
       "      <th>2023</th>\n",
       "      <td>49.9</td>\n",
       "      <td>4066.0</td>\n",
       "      <td>1.01804</td>\n",
       "    </tr>\n",
       "    <tr>\n",
       "      <th>2024</th>\n",
       "      <td>49.8</td>\n",
       "      <td>4068.0</td>\n",
       "      <td>1.01806</td>\n",
       "    </tr>\n",
       "    <tr>\n",
       "      <th>2025</th>\n",
       "      <td>49.7</td>\n",
       "      <td>4072.0</td>\n",
       "      <td>1.01808</td>\n",
       "    </tr>\n",
       "    <tr>\n",
       "      <th>2026</th>\n",
       "      <td>49.6</td>\n",
       "      <td>4074.0</td>\n",
       "      <td>1.01812</td>\n",
       "    </tr>\n",
       "    <tr>\n",
       "      <th>2027</th>\n",
       "      <td>49.4</td>\n",
       "      <td>4076.0</td>\n",
       "      <td>1.01814</td>\n",
       "    </tr>\n",
       "    <tr>\n",
       "      <th>...</th>\n",
       "      <td>...</td>\n",
       "      <td>...</td>\n",
       "      <td>...</td>\n",
       "    </tr>\n",
       "    <tr>\n",
       "      <th>2299</th>\n",
       "      <td>21.8</td>\n",
       "      <td>4908.0</td>\n",
       "      <td>1.03030</td>\n",
       "    </tr>\n",
       "    <tr>\n",
       "      <th>2300</th>\n",
       "      <td>21.7</td>\n",
       "      <td>4912.0</td>\n",
       "      <td>1.03040</td>\n",
       "    </tr>\n",
       "    <tr>\n",
       "      <th>2301</th>\n",
       "      <td>21.6</td>\n",
       "      <td>4916.0</td>\n",
       "      <td>1.03050</td>\n",
       "    </tr>\n",
       "    <tr>\n",
       "      <th>2302</th>\n",
       "      <td>21.5</td>\n",
       "      <td>4922.0</td>\n",
       "      <td>1.03060</td>\n",
       "    </tr>\n",
       "    <tr>\n",
       "      <th>2303</th>\n",
       "      <td>21.4</td>\n",
       "      <td>4926.0</td>\n",
       "      <td>NaN</td>\n",
       "    </tr>\n",
       "  </tbody>\n",
       "</table>\n",
       "<p>281 rows × 3 columns</p>\n",
       "</div>"
      ],
      "text/plain": [
       "      Pair    Time      Cpf\n",
       "2023  49.9  4066.0  1.01804\n",
       "2024  49.8  4068.0  1.01806\n",
       "2025  49.7  4072.0  1.01808\n",
       "2026  49.6  4074.0  1.01812\n",
       "2027  49.4  4076.0  1.01814\n",
       "...    ...     ...      ...\n",
       "2299  21.8  4908.0  1.03030\n",
       "2300  21.7  4912.0  1.03040\n",
       "2301  21.6  4916.0  1.03050\n",
       "2302  21.5  4922.0  1.03060\n",
       "2303  21.4  4926.0      NaN\n",
       "\n",
       "[281 rows x 3 columns]"
      ]
     },
     "execution_count": 19,
     "metadata": {},
     "output_type": "execute_result"
    }
   ],
   "source": [
    "dflin[dflin.Pair < 50][['Pair', 'Time','Cpf']]"
   ]
  },
  {
   "cell_type": "code",
   "execution_count": 20,
   "metadata": {},
   "outputs": [],
   "source": [
    "linear = dflin[dflin.Pair < 50]['Cpf'].tolist()"
   ]
  },
  {
   "cell_type": "code",
   "execution_count": 32,
   "metadata": {},
   "outputs": [
    {
     "name": "stdout",
     "output_type": "stream",
     "text": [
      "[1.01804, 1.01806, 1.01808, 1.01812, 1.01814, 1.01818, 1.0182, 1.0182200000000001, 1.01824, 1.01826, 1.01828, 1.0183, 1.0183200000000001, 1.01834, 1.01836, 1.01838, 1.0184, 1.01842, 1.01844, 1.01846, 1.01848, 1.01852, 1.01854, 1.01856, 1.01858, 1.0186, 1.01862, 1.01864, 1.0186600000000001, 1.01868, 1.0187, 1.01872, 1.01874, 1.01876, 1.01878, 1.0188, 1.01882, 1.01886, 1.01888, 1.0189, 1.01892, 1.01894, 1.01896, 1.01898, 1.0190000000000001, 1.01902, 1.01904, 1.01906, 1.01908, 1.0191000000000001, 1.01912, 1.01914, 1.01916, 1.01918, 1.0192, 1.01922, 1.01924, 1.01926, 1.01928, 1.0193, 1.01932, 1.01934, 1.01936, 1.01938, 1.0194, 1.01942, 1.0194400000000001, 1.01946, 1.01948, 1.0195, 1.0195400000000001, 1.01956, 1.01958, 1.0196, 1.01962, 1.01964, 1.01966, 1.01968, 1.0197, 1.01972, 1.01974, 1.01976, 1.01978, 1.0198, 1.01982, 1.01984, 1.01986, 1.0198800000000001, 1.0199, 1.01992, 1.01994, 1.01996, 1.01998, 1.02, 1.02002, 1.02004, 1.02006, 1.02008, 1.0201, 1.02012, 1.02014, 1.02016, 1.02018, 1.0202, 1.0202200000000001, 1.02024, 1.02026, 1.02028, 1.0203, 1.0203200000000001, 1.02034, 1.02036, 1.02038, 1.0204, 1.02042, 1.02044, 1.02046, 1.02048, 1.0205, 1.02052, 1.02054, 1.02056, 1.02058, 1.0206, 1.02062, 1.02064, 1.0206600000000001, 1.02068, 1.0207, 1.02072, 1.02074, 1.0207600000000001, 1.02078, 1.0208, 1.02082, 1.02084, 1.02086, 1.02088, 1.0209, 1.02092, 1.02094, 1.02096, 1.02098, 1.021, 1.02102, 1.02104, 1.02106, 1.02108, 1.0211000000000001, 1.02112, 1.02114, 1.02116, 1.02118, 1.0212, 1.02122, 1.02124, 1.02126, 1.02128, 1.0213, 1.02132, 1.02134, 1.02136, 1.02138, 1.0214, 1.02142, 1.0214400000000001, 1.02146, 1.02148, 1.0215, 1.02152, 1.0215400000000001, 1.02156, 1.02158, 1.0216, 1.02162, 1.02164, 1.02166, 1.02168, 1.0217, 1.02172, 1.02174, 1.02176, 1.02178, 1.0218, 1.02182, 1.02184, 1.02186, 1.0218800000000001, 1.0219, 1.02192, 1.02194, 1.02196, 1.02198, 1.022, 1.0221, 1.0222, 1.0223, 1.0224, 1.0225, 1.0226, 1.0227, 1.0228, 1.0229, 1.0230000000000001, 1.0231000000000001, 1.0232, 1.0233, 1.0234, 1.0235, 1.0236, 1.0237, 1.0238, 1.0239, 1.024, 1.0241, 1.0242, 1.0243, 1.0244, 1.0245, 1.0246, 1.0247, 1.0248, 1.0249, 1.025, 1.0251000000000001, 1.0252000000000001, 1.0253, 1.0254, 1.0255, 1.0256, 1.0257, 1.0258, 1.0259, 1.026, 1.0261, 1.0262, 1.0263, 1.0264, 1.0265, 1.0266, 1.0267, 1.0268, 1.0269, 1.0270000000000001, 1.0271000000000001, 1.0272000000000001, 1.0273, 1.0274, 1.0275, 1.0276, 1.0277, 1.0278, 1.0279, 1.028, 1.0281, 1.0282, 1.0283, 1.0284, 1.0285, 1.0286, 1.0287, 1.0288, 1.0289, 1.029, 1.0291000000000001, 1.0292000000000001, 1.0293, 1.0294, 1.0295, 1.0296, 1.0297, 1.0298, 1.0299, 1.03, 1.0301, 1.0302, 1.0303, 1.0304, 1.0305, 1.0306, nan]\n"
     ]
    }
   ],
   "source": [
    "print(linear)"
   ]
  },
  {
   "cell_type": "code",
   "execution_count": 13,
   "metadata": {},
   "outputs": [],
   "source": [
    "dflog = pd.read_hdf('/home/poyraden/Analysis/Homogenization_public/Files/sodankyla/DQA/20030301_all_hom_log.hdf')"
   ]
  },
  {
   "cell_type": "code",
   "execution_count": 22,
   "metadata": {},
   "outputs": [],
   "source": [
    "dflog['Cpflin'] = 1"
   ]
  },
  {
   "cell_type": "code",
   "execution_count": 17,
   "metadata": {},
   "outputs": [
    {
     "data": {
      "text/html": [
       "<div>\n",
       "<style scoped>\n",
       "    .dataframe tbody tr th:only-of-type {\n",
       "        vertical-align: middle;\n",
       "    }\n",
       "\n",
       "    .dataframe tbody tr th {\n",
       "        vertical-align: top;\n",
       "    }\n",
       "\n",
       "    .dataframe thead th {\n",
       "        text-align: right;\n",
       "    }\n",
       "</style>\n",
       "<table border=\"1\" class=\"dataframe\">\n",
       "  <thead>\n",
       "    <tr style=\"text-align: right;\">\n",
       "      <th></th>\n",
       "      <th>Pair</th>\n",
       "      <th>Cpf</th>\n",
       "      <th>eta_c</th>\n",
       "    </tr>\n",
       "  </thead>\n",
       "  <tbody>\n",
       "    <tr>\n",
       "      <th>2023</th>\n",
       "      <td>49.9</td>\n",
       "      <td>1.018031</td>\n",
       "      <td>1.0</td>\n",
       "    </tr>\n",
       "    <tr>\n",
       "      <th>2024</th>\n",
       "      <td>49.8</td>\n",
       "      <td>1.018047</td>\n",
       "      <td>1.0</td>\n",
       "    </tr>\n",
       "    <tr>\n",
       "      <th>2025</th>\n",
       "      <td>49.7</td>\n",
       "      <td>1.018063</td>\n",
       "      <td>1.0</td>\n",
       "    </tr>\n",
       "    <tr>\n",
       "      <th>2026</th>\n",
       "      <td>49.6</td>\n",
       "      <td>1.018095</td>\n",
       "      <td>1.0</td>\n",
       "    </tr>\n",
       "    <tr>\n",
       "      <th>2027</th>\n",
       "      <td>49.4</td>\n",
       "      <td>1.018110</td>\n",
       "      <td>1.0</td>\n",
       "    </tr>\n",
       "    <tr>\n",
       "      <th>...</th>\n",
       "      <td>...</td>\n",
       "      <td>...</td>\n",
       "      <td>...</td>\n",
       "    </tr>\n",
       "    <tr>\n",
       "      <th>2299</th>\n",
       "      <td>21.8</td>\n",
       "      <td>1.029988</td>\n",
       "      <td>1.0</td>\n",
       "    </tr>\n",
       "    <tr>\n",
       "      <th>2300</th>\n",
       "      <td>21.7</td>\n",
       "      <td>1.030102</td>\n",
       "      <td>1.0</td>\n",
       "    </tr>\n",
       "    <tr>\n",
       "      <th>2301</th>\n",
       "      <td>21.6</td>\n",
       "      <td>1.030216</td>\n",
       "      <td>1.0</td>\n",
       "    </tr>\n",
       "    <tr>\n",
       "      <th>2302</th>\n",
       "      <td>21.5</td>\n",
       "      <td>1.030331</td>\n",
       "      <td>1.0</td>\n",
       "    </tr>\n",
       "    <tr>\n",
       "      <th>2303</th>\n",
       "      <td>21.4</td>\n",
       "      <td>NaN</td>\n",
       "      <td>1.0</td>\n",
       "    </tr>\n",
       "  </tbody>\n",
       "</table>\n",
       "<p>281 rows × 3 columns</p>\n",
       "</div>"
      ],
      "text/plain": [
       "      Pair       Cpf  eta_c\n",
       "2023  49.9  1.018031    1.0\n",
       "2024  49.8  1.018047    1.0\n",
       "2025  49.7  1.018063    1.0\n",
       "2026  49.6  1.018095    1.0\n",
       "2027  49.4  1.018110    1.0\n",
       "...    ...       ...    ...\n",
       "2299  21.8  1.029988    1.0\n",
       "2300  21.7  1.030102    1.0\n",
       "2301  21.6  1.030216    1.0\n",
       "2302  21.5  1.030331    1.0\n",
       "2303  21.4       NaN    1.0\n",
       "\n",
       "[281 rows x 3 columns]"
      ]
     },
     "execution_count": 17,
     "metadata": {},
     "output_type": "execute_result"
    }
   ],
   "source": [
    "dflog[dflog.Pair < 50][['Pair', 'Cpf']]"
   ]
  },
  {
   "cell_type": "code",
   "execution_count": 28,
   "metadata": {},
   "outputs": [
    {
     "name": "stderr",
     "output_type": "stream",
     "text": [
      "/home/poyraden/anaconda3/lib/python3.7/site-packages/ipykernel_launcher.py:1: SettingWithCopyWarning: \n",
      "A value is trying to be set on a copy of a slice from a DataFrame.\n",
      "Try using .loc[row_indexer,col_indexer] = value instead\n",
      "\n",
      "See the caveats in the documentation: https://pandas.pydata.org/pandas-docs/stable/user_guide/indexing.html#returning-a-view-versus-a-copy\n",
      "  \"\"\"Entry point for launching an IPython kernel.\n"
     ]
    }
   ],
   "source": [
    "dflog[dflog.Pair < 50]['Cpflin'] = dflin[dflin.Pair<50]['Cpf']"
   ]
  },
  {
   "cell_type": "code",
   "execution_count": 29,
   "metadata": {},
   "outputs": [
    {
     "name": "stderr",
     "output_type": "stream",
     "text": [
      "/home/poyraden/anaconda3/lib/python3.7/site-packages/ipykernel_launcher.py:2: SettingWithCopyWarning: \n",
      "A value is trying to be set on a copy of a slice from a DataFrame.\n",
      "Try using .loc[row_indexer,col_indexer] = value instead\n",
      "\n",
      "See the caveats in the documentation: https://pandas.pydata.org/pandas-docs/stable/user_guide/indexing.html#returning-a-view-versus-a-copy\n",
      "  \n"
     ]
    }
   ],
   "source": [
    "dflog['dif'] = 0\n",
    "dflog[dflog.Pair < 50]['dif'] = (dflog[dflog.Pair < 50]['Cpf'] - dflog[dflog.Pair < 50]['Cpflin'])/dflog[dflog.Pair < 50]['Cpflin'] * 100\n"
   ]
  },
  {
   "cell_type": "code",
   "execution_count": 31,
   "metadata": {},
   "outputs": [
    {
     "data": {
      "text/html": [
       "<div>\n",
       "<style scoped>\n",
       "    .dataframe tbody tr th:only-of-type {\n",
       "        vertical-align: middle;\n",
       "    }\n",
       "\n",
       "    .dataframe tbody tr th {\n",
       "        vertical-align: top;\n",
       "    }\n",
       "\n",
       "    .dataframe thead th {\n",
       "        text-align: right;\n",
       "    }\n",
       "</style>\n",
       "<table border=\"1\" class=\"dataframe\">\n",
       "  <thead>\n",
       "    <tr style=\"text-align: right;\">\n",
       "      <th></th>\n",
       "      <th>Pair</th>\n",
       "      <th>Cpf</th>\n",
       "      <th>Cpflin</th>\n",
       "      <th>dif</th>\n",
       "    </tr>\n",
       "  </thead>\n",
       "  <tbody>\n",
       "    <tr>\n",
       "      <th>2023</th>\n",
       "      <td>49.9</td>\n",
       "      <td>1.018031</td>\n",
       "      <td>1</td>\n",
       "      <td>0</td>\n",
       "    </tr>\n",
       "    <tr>\n",
       "      <th>2024</th>\n",
       "      <td>49.8</td>\n",
       "      <td>1.018047</td>\n",
       "      <td>1</td>\n",
       "      <td>0</td>\n",
       "    </tr>\n",
       "    <tr>\n",
       "      <th>2025</th>\n",
       "      <td>49.7</td>\n",
       "      <td>1.018063</td>\n",
       "      <td>1</td>\n",
       "      <td>0</td>\n",
       "    </tr>\n",
       "    <tr>\n",
       "      <th>2026</th>\n",
       "      <td>49.6</td>\n",
       "      <td>1.018095</td>\n",
       "      <td>1</td>\n",
       "      <td>0</td>\n",
       "    </tr>\n",
       "    <tr>\n",
       "      <th>2027</th>\n",
       "      <td>49.4</td>\n",
       "      <td>1.018110</td>\n",
       "      <td>1</td>\n",
       "      <td>0</td>\n",
       "    </tr>\n",
       "    <tr>\n",
       "      <th>...</th>\n",
       "      <td>...</td>\n",
       "      <td>...</td>\n",
       "      <td>...</td>\n",
       "      <td>...</td>\n",
       "    </tr>\n",
       "    <tr>\n",
       "      <th>2299</th>\n",
       "      <td>21.8</td>\n",
       "      <td>1.029988</td>\n",
       "      <td>1</td>\n",
       "      <td>0</td>\n",
       "    </tr>\n",
       "    <tr>\n",
       "      <th>2300</th>\n",
       "      <td>21.7</td>\n",
       "      <td>1.030102</td>\n",
       "      <td>1</td>\n",
       "      <td>0</td>\n",
       "    </tr>\n",
       "    <tr>\n",
       "      <th>2301</th>\n",
       "      <td>21.6</td>\n",
       "      <td>1.030216</td>\n",
       "      <td>1</td>\n",
       "      <td>0</td>\n",
       "    </tr>\n",
       "    <tr>\n",
       "      <th>2302</th>\n",
       "      <td>21.5</td>\n",
       "      <td>1.030331</td>\n",
       "      <td>1</td>\n",
       "      <td>0</td>\n",
       "    </tr>\n",
       "    <tr>\n",
       "      <th>2303</th>\n",
       "      <td>21.4</td>\n",
       "      <td>NaN</td>\n",
       "      <td>1</td>\n",
       "      <td>0</td>\n",
       "    </tr>\n",
       "  </tbody>\n",
       "</table>\n",
       "<p>281 rows × 4 columns</p>\n",
       "</div>"
      ],
      "text/plain": [
       "      Pair       Cpf  Cpflin  dif\n",
       "2023  49.9  1.018031       1    0\n",
       "2024  49.8  1.018047       1    0\n",
       "2025  49.7  1.018063       1    0\n",
       "2026  49.6  1.018095       1    0\n",
       "2027  49.4  1.018110       1    0\n",
       "...    ...       ...     ...  ...\n",
       "2299  21.8  1.029988       1    0\n",
       "2300  21.7  1.030102       1    0\n",
       "2301  21.6  1.030216       1    0\n",
       "2302  21.5  1.030331       1    0\n",
       "2303  21.4       NaN       1    0\n",
       "\n",
       "[281 rows x 4 columns]"
      ]
     },
     "execution_count": 31,
     "metadata": {},
     "output_type": "execute_result"
    }
   ],
   "source": [
    "dflog[dflog.Pair < 50][['Pair','Cpf','Cpflin','dif']] "
   ]
  },
  {
   "cell_type": "code",
   "execution_count": 35,
   "metadata": {},
   "outputs": [],
   "source": [
    "log = dflog[dflog.Pair < 50]['Cpf'].tolist()"
   ]
  },
  {
   "cell_type": "code",
   "execution_count": 36,
   "metadata": {},
   "outputs": [
    {
     "name": "stdout",
     "output_type": "stream",
     "text": [
      "281 281\n"
     ]
    }
   ],
   "source": [
    "print(len(linear), len(log))"
   ]
  },
  {
   "cell_type": "code",
   "execution_count": 37,
   "metadata": {},
   "outputs": [],
   "source": [
    "dft = pd.DataFrame()"
   ]
  },
  {
   "cell_type": "code",
   "execution_count": 38,
   "metadata": {},
   "outputs": [],
   "source": [
    "dft['lin'] = linear\n",
    "dft['log'] = log"
   ]
  },
  {
   "cell_type": "code",
   "execution_count": 44,
   "metadata": {},
   "outputs": [],
   "source": [
    "dft['dif'] = (dft['lin'] - dft['log'])/dft['log'] * 100"
   ]
  },
  {
   "cell_type": "code",
   "execution_count": 45,
   "metadata": {},
   "outputs": [
    {
     "data": {
      "text/html": [
       "<div>\n",
       "<style scoped>\n",
       "    .dataframe tbody tr th:only-of-type {\n",
       "        vertical-align: middle;\n",
       "    }\n",
       "\n",
       "    .dataframe tbody tr th {\n",
       "        vertical-align: top;\n",
       "    }\n",
       "\n",
       "    .dataframe thead th {\n",
       "        text-align: right;\n",
       "    }\n",
       "</style>\n",
       "<table border=\"1\" class=\"dataframe\">\n",
       "  <thead>\n",
       "    <tr style=\"text-align: right;\">\n",
       "      <th></th>\n",
       "      <th>lin</th>\n",
       "      <th>log</th>\n",
       "      <th>dif</th>\n",
       "    </tr>\n",
       "  </thead>\n",
       "  <tbody>\n",
       "    <tr>\n",
       "      <th>0</th>\n",
       "      <td>1.01804</td>\n",
       "      <td>1.018031</td>\n",
       "      <td>0.000846</td>\n",
       "    </tr>\n",
       "    <tr>\n",
       "      <th>1</th>\n",
       "      <td>1.01806</td>\n",
       "      <td>1.018047</td>\n",
       "      <td>0.001265</td>\n",
       "    </tr>\n",
       "    <tr>\n",
       "      <th>2</th>\n",
       "      <td>1.01808</td>\n",
       "      <td>1.018063</td>\n",
       "      <td>0.001680</td>\n",
       "    </tr>\n",
       "    <tr>\n",
       "      <th>3</th>\n",
       "      <td>1.01812</td>\n",
       "      <td>1.018095</td>\n",
       "      <td>0.002501</td>\n",
       "    </tr>\n",
       "    <tr>\n",
       "      <th>4</th>\n",
       "      <td>1.01814</td>\n",
       "      <td>1.018110</td>\n",
       "      <td>0.002907</td>\n",
       "    </tr>\n",
       "    <tr>\n",
       "      <th>...</th>\n",
       "      <td>...</td>\n",
       "      <td>...</td>\n",
       "      <td>...</td>\n",
       "    </tr>\n",
       "    <tr>\n",
       "      <th>276</th>\n",
       "      <td>1.03030</td>\n",
       "      <td>1.029988</td>\n",
       "      <td>0.030293</td>\n",
       "    </tr>\n",
       "    <tr>\n",
       "      <th>277</th>\n",
       "      <td>1.03040</td>\n",
       "      <td>1.030102</td>\n",
       "      <td>0.028938</td>\n",
       "    </tr>\n",
       "    <tr>\n",
       "      <th>278</th>\n",
       "      <td>1.03050</td>\n",
       "      <td>1.030216</td>\n",
       "      <td>0.027533</td>\n",
       "    </tr>\n",
       "    <tr>\n",
       "      <th>279</th>\n",
       "      <td>1.03060</td>\n",
       "      <td>1.030331</td>\n",
       "      <td>0.026076</td>\n",
       "    </tr>\n",
       "    <tr>\n",
       "      <th>280</th>\n",
       "      <td>NaN</td>\n",
       "      <td>NaN</td>\n",
       "      <td>NaN</td>\n",
       "    </tr>\n",
       "  </tbody>\n",
       "</table>\n",
       "<p>281 rows × 3 columns</p>\n",
       "</div>"
      ],
      "text/plain": [
       "         lin       log       dif\n",
       "0    1.01804  1.018031  0.000846\n",
       "1    1.01806  1.018047  0.001265\n",
       "2    1.01808  1.018063  0.001680\n",
       "3    1.01812  1.018095  0.002501\n",
       "4    1.01814  1.018110  0.002907\n",
       "..       ...       ...       ...\n",
       "276  1.03030  1.029988  0.030293\n",
       "277  1.03040  1.030102  0.028938\n",
       "278  1.03050  1.030216  0.027533\n",
       "279  1.03060  1.030331  0.026076\n",
       "280      NaN       NaN       NaN\n",
       "\n",
       "[281 rows x 3 columns]"
      ]
     },
     "execution_count": 45,
     "metadata": {},
     "output_type": "execute_result"
    }
   ],
   "source": [
    "dft[['lin', 'log', 'dif']]"
   ]
  },
  {
   "cell_type": "code",
   "execution_count": null,
   "metadata": {},
   "outputs": [],
   "source": []
  }
 ],
 "metadata": {
  "kernelspec": {
   "display_name": "Python 3",
   "language": "python",
   "name": "python3"
  },
  "language_info": {
   "codemirror_mode": {
    "name": "ipython",
    "version": 3
   },
   "file_extension": ".py",
   "mimetype": "text/x-python",
   "name": "python",
   "nbconvert_exporter": "python",
   "pygments_lexer": "ipython3",
   "version": "3.7.4"
  }
 },
 "nbformat": 4,
 "nbformat_minor": 2
}
