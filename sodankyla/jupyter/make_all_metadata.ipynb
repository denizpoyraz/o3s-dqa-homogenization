{
 "cells": [
  {
   "cell_type": "code",
   "execution_count": 1,
   "metadata": {},
   "outputs": [],
   "source": [
    "import pandas as pd\n",
    "import numpy as np\n",
    "import re\n",
    "from re import search\n",
    "import glob\n",
    "from datetime import datetime\n",
    "import time"
   ]
  },
  {
   "cell_type": "code",
   "execution_count": 2,
   "metadata": {},
   "outputs": [],
   "source": [
    "allFiles = sorted(glob.glob(\"/home/poyraden/Analysis/Homogenization_Analysis/Files/Nilu/Sodankyl/DQA/All/*all_dqa_rs80.hdf\"))"
   ]
  },
  {
   "cell_type": "code",
   "execution_count": null,
   "metadata": {},
   "outputs": [],
   "source": []
  },
  {
   "cell_type": "code",
   "execution_count": 3,
   "metadata": {},
   "outputs": [
    {
     "name": "stdout",
     "output_type": "stream",
     "text": [
      "['Time', 'Height', 'Tbox', 'WindDirection', 'WindSpeed', 'LaunchTime', 'Longitude', 'Latitude', 'SolutionVolume', 'SolutionConcentration', 'PF', 'iB0', 'iB2', 'SurfaceOzone', 'Pground', 'SondeTotalO3', 'CorrectionFactor', 'TLab', 'ULab', 'GroundEquipment', 'PumpTable', 'BackgroundCorrection', 'SerialECC', 'SensorType', 'InterfaceSerial', 'RadiosondeModel', 'RadiosondeSerial', 'Pair', 'O3', 'T', 'U', 'Cef', 'ibg', 'Pcor', 'I', 'Date', 'Datedt', 'Tpump', 'Phip', 'Eta', 'unc_Phip', 'unc_Tpump', 'unc_cph', 'unc_cpl', 'Crs', 'unc_Crs', 'unc_alpha_o3', 'alpha_o3', 'stoich', 'unc_stoich', 'eta_c', 'unc_eta', 'unc_eta_c', 'iBc', 'unc_iBc', 'Tpump_cor', 'unc_Tpump_cor', 'deltat', 'unc_deltat', 'deltat_ppi', 'unc_deltat_ppi', 'x', 'psaturated', 'cph', 'tlabK', 'cPL', 'Phip_ground', 'unc_Phip_ground', 'Cpf', 'unc_Cpf', 'Phip_cor', 'unc_Phip_cor', 'Phip_PF', 'O3c', 'dI', 'dIall', 'dEta', 'dPhi_cor', 'dTpump_cor', 'dPrs', 'dO3']\n",
      "['Time', 'Height', 'Tbox', 'WindDirection', 'WindSpeed', 'LaunchTime', 'Longitude', 'Latitude', 'SolutionVolume', 'SolutionConcentration', 'PF', 'iB0', 'iB2', 'SurfaceOzone', 'Pground', 'SondeTotalO3', 'CorrectionFactor', 'TLab', 'ULab', 'GroundEquipment', 'PumpTable', 'BackgroundCorrection', 'SerialECC', 'SensorType', 'InterfaceSerial', 'RadiosondeModel', 'RadiosondeSerial', 'Pair', 'O3', 'T', 'U', 'Cef', 'ibg', 'Pcor', 'I', 'Date', 'Datedt', 'Tpump', 'Phip', 'Eta', 'unc_Phip', 'unc_Tpump', 'unc_cph', 'unc_cpl', 'Crs', 'unc_Crs', 'unc_alpha_o3', 'alpha_o3', 'stoich', 'unc_stoich', 'eta_c', 'unc_eta', 'unc_eta_c', 'iBc', 'unc_iBc', 'Tpump_cor', 'unc_Tpump_cor', 'deltat', 'unc_deltat', 'deltat_ppi', 'unc_deltat_ppi', 'x', 'psaturated', 'cph', 'tlabK', 'cPL', 'Phip_ground', 'unc_Phip_ground', 'Cpf', 'unc_Cpf', 'Phip_cor', 'unc_Phip_cor', 'Phip_PF', 'O3c', 'dI', 'dIall', 'dEta', 'dPhi_cor', 'dTpump_cor', 'dPrs', 'dO3']\n",
      "['Time', 'Height', 'Tbox', 'WindDirection', 'WindSpeed', 'LaunchTime', 'Longitude', 'Latitude', 'SolutionVolume', 'SolutionConcentration', 'PF', 'iB0', 'iB2', 'SurfaceOzone', 'Pground', 'SondeTotalO3', 'CorrectionFactor', 'TLab', 'ULab', 'GroundEquipment', 'PumpTable', 'BackgroundCorrection', 'SerialECC', 'SensorType', 'InterfaceSerial', 'RadiosondeModel', 'RadiosondeSerial', 'Pair', 'O3', 'T', 'U', 'Cef', 'ibg', 'Pcor', 'I', 'Date', 'Datedt', 'Tpump', 'Phip', 'Eta', 'unc_Phip', 'unc_Tpump', 'unc_cph', 'unc_cpl', 'Crs', 'unc_Crs', 'unc_alpha_o3', 'alpha_o3', 'stoich', 'unc_stoich', 'eta_c', 'unc_eta', 'unc_eta_c', 'iBc', 'unc_iBc', 'Tpump_cor', 'unc_Tpump_cor', 'deltat', 'unc_deltat', 'deltat_ppi', 'unc_deltat_ppi', 'x', 'psaturated', 'cph', 'tlabK', 'cPL', 'Phip_ground', 'unc_Phip_ground', 'Cpf', 'unc_Cpf', 'Phip_cor', 'unc_Phip_cor', 'Phip_PF', 'O3c', 'dI', 'dIall', 'dEta', 'dPhi_cor', 'dTpump_cor', 'dPrs', 'dO3']\n",
      "['Time', 'Height', 'Tbox', 'WindDirection', 'WindSpeed', 'LaunchTime', 'Longitude', 'Latitude', 'SolutionVolume', 'SolutionConcentration', 'PF', 'iB0', 'iB2', 'SurfaceOzone', 'Pground', 'SondeTotalO3', 'CorrectionFactor', 'TLab', 'ULab', 'GroundEquipment', 'PumpTable', 'BackgroundCorrection', 'PumpTempLoc', 'SerialECC', 'SensorType', 'InterfaceSerial', 'RadiosondeModel', 'RadiosondeSerial', 'Pair', 'O3', 'T', 'U', 'Cef', 'ibg', 'Pcor', 'I', 'Date', 'Datedt', 'Tpump', 'Phip', 'Eta', 'unc_Phip', 'unc_Tpump', 'unc_cph', 'unc_cpl', 'Crs', 'unc_Crs', 'unc_alpha_o3', 'alpha_o3', 'stoich', 'unc_stoich', 'eta_c', 'unc_eta', 'unc_eta_c', 'iBc', 'unc_iBc', 'Tpump_cor', 'unc_Tpump_cor', 'deltat', 'unc_deltat', 'deltat_ppi', 'unc_deltat_ppi', 'x', 'psaturated', 'cph', 'tlabK', 'cPL', 'Phip_ground', 'unc_Phip_ground', 'Cpf', 'unc_Cpf', 'Phip_cor', 'unc_Phip_cor', 'Phip_PF', 'O3c', 'dI', 'dIall', 'dEta', 'dPhi_cor', 'dTpump_cor', 'dPrs', 'dO3']\n"
     ]
    }
   ],
   "source": [
    "size = len(allFiles)\n",
    "\n",
    "datelist = [0] * size\n",
    "j = 0\n",
    "\n",
    "list_data = []\n",
    "\n",
    "\n",
    "for filename in allFiles:\n",
    "\n",
    "    file = open(filename, 'r')\n",
    "    date_tmp = filename.split('/')[-1].split('_')[0][2:8]\n",
    "\n",
    "#     print(filename, date_tmp)\n",
    "\n",
    "    date = datetime.strptime(date_tmp, '%y%m%d')\n",
    "\n",
    "    datef = date.strftime('%Y%m%d')\n",
    "    datestr = str(datef)\n",
    "    datelist[j] = datestr\n",
    "    if (j > 0) and (j < (size - 1)):\n",
    "        if (datelist[j] == datelist[j - 1]):\n",
    "            datestr = str(datef) + \"_2nd\"\n",
    "            # print(datestr)\n",
    "    j = j + 1\n",
    "\n",
    "    df = pd.read_hdf(filename)\n",
    "    \n",
    "    if j < 5: print(list(df))\n",
    "    \n",
    "    df = df.drop_duplicates(['Date'])\n",
    "    list_data.append(df)\n",
    "\n",
    "#     print(df[0:10])\n",
    "    "
   ]
  },
  {
   "cell_type": "code",
   "execution_count": 4,
   "metadata": {},
   "outputs": [],
   "source": [
    "dff = pd.concat(list_data,ignore_index=True)\n",
    "csvall = \"/home/poyraden/Analysis/Homogenization_Analysis/Files/Nilu/Sodankyl/DQA/All/All_metadata_nilu.csv\"\n",
    "\n",
    "dff.to_csv(csvall)"
   ]
  },
  {
   "cell_type": "code",
   "execution_count": 5,
   "metadata": {},
   "outputs": [
    {
     "name": "stdout",
     "output_type": "stream",
     "text": [
      "['Time', 'Height', 'Tbox', 'WindDirection', 'WindSpeed', 'LaunchTime', 'Longitude', 'Latitude', 'SolutionVolume', 'SolutionConcentration', 'PF', 'iB0', 'iB2', 'SurfaceOzone', 'Pground', 'SondeTotalO3', 'CorrectionFactor', 'TLab', 'ULab', 'GroundEquipment', 'PumpTable', 'BackgroundCorrection', 'SerialECC', 'SensorType', 'InterfaceSerial', 'RadiosondeModel', 'RadiosondeSerial', 'Pair', 'O3', 'T', 'U', 'Cef', 'ibg', 'Pcor', 'I', 'Date', 'Datedt', 'Tpump', 'Phip', 'Eta', 'unc_Phip', 'unc_Tpump', 'unc_cph', 'unc_cpl', 'Crs', 'unc_Crs', 'unc_alpha_o3', 'alpha_o3', 'stoich', 'unc_stoich', 'eta_c', 'unc_eta', 'unc_eta_c', 'iBc', 'unc_iBc', 'Tpump_cor', 'unc_Tpump_cor', 'deltat', 'unc_deltat', 'deltat_ppi', 'unc_deltat_ppi', 'x', 'psaturated', 'cph', 'tlabK', 'cPL', 'Phip_ground', 'unc_Phip_ground', 'Cpf', 'unc_Cpf', 'Phip_cor', 'unc_Phip_cor', 'Phip_PF', 'O3c', 'dI', 'dIall', 'dEta', 'dPhi_cor', 'dTpump_cor', 'dPrs', 'dO3', 'PumpTempLoc']\n"
     ]
    }
   ],
   "source": [
    "print(list(dff))"
   ]
  },
  {
   "cell_type": "code",
   "execution_count": 6,
   "metadata": {},
   "outputs": [],
   "source": [
    " dff2 = dff.drop(['Time', 'Height', 'Tbox', 'WindDirection', 'WindSpeed', 'Pair', 'O3',  'T', 'U', 'Cef', 'ibg', 'Pcor', 'I', \n",
    "              'Tpump', 'Phip', 'Eta', 'unc_Phip', 'unc_Tpump', 'unc_cph', 'unc_cpl', 'Crs', 'unc_Crs', 'unc_alpha_o3', 'alpha_o3', 'stoich', 'unc_stoich', 'eta_c', 'unc_eta', 'unc_eta_c', 'iBc', 'unc_iBc', 'Tpump_cor', 'unc_Tpump_cor', 'deltat', 'unc_deltat', 'deltat_ppi', 'unc_deltat_ppi', 'x', 'psaturated', 'cph', 'tlabK', 'cPL', 'Phip_ground', 'unc_Phip_ground', 'Cpf', 'unc_Cpf', 'Phip_cor', 'unc_Phip_cor', 'Phip_PF', 'O3c', 'dI', 'dIall', 'dEta', 'dPhi_cor', 'dTpump_cor', 'dPrs', 'dO3', 'PumpTempLoc'  ], axis = 1)"
   ]
  },
  {
   "cell_type": "code",
   "execution_count": 8,
   "metadata": {},
   "outputs": [
    {
     "name": "stdout",
     "output_type": "stream",
     "text": [
      "['LaunchTime', 'Longitude', 'Latitude', 'SolutionVolume', 'SolutionConcentration', 'PF', 'iB0', 'iB2', 'SurfaceOzone', 'Pground', 'SondeTotalO3', 'CorrectionFactor', 'TLab', 'ULab', 'GroundEquipment', 'PumpTable', 'BackgroundCorrection', 'SerialECC', 'SensorType', 'InterfaceSerial', 'RadiosondeModel', 'RadiosondeSerial', 'Date', 'Datedt']\n"
     ]
    }
   ],
   "source": [
    "print(list(dff2))"
   ]
  },
  {
   "cell_type": "code",
   "execution_count": 11,
   "metadata": {},
   "outputs": [],
   "source": [
    "csvall = \"/home/poyraden/Analysis/Homogenization_Analysis/Files/Nilu/Sodankyl/DQA/All/All_metadata_nilu.csv\"\n",
    "\n",
    "dff2.to_csv(csvall)"
   ]
  },
  {
   "cell_type": "code",
   "execution_count": 14,
   "metadata": {},
   "outputs": [
    {
     "data": {
      "text/html": [
       "<div>\n",
       "<style scoped>\n",
       "    .dataframe tbody tr th:only-of-type {\n",
       "        vertical-align: middle;\n",
       "    }\n",
       "\n",
       "    .dataframe tbody tr th {\n",
       "        vertical-align: top;\n",
       "    }\n",
       "\n",
       "    .dataframe thead th {\n",
       "        text-align: right;\n",
       "    }\n",
       "</style>\n",
       "<table border=\"1\" class=\"dataframe\">\n",
       "  <thead>\n",
       "    <tr style=\"text-align: right;\">\n",
       "      <th></th>\n",
       "      <th>Date</th>\n",
       "      <th>PF</th>\n",
       "    </tr>\n",
       "  </thead>\n",
       "  <tbody>\n",
       "    <tr>\n",
       "      <th>0</th>\n",
       "      <td>20021120</td>\n",
       "      <td>31.16</td>\n",
       "    </tr>\n",
       "    <tr>\n",
       "      <th>1</th>\n",
       "      <td>20021123</td>\n",
       "      <td>27.95</td>\n",
       "    </tr>\n",
       "    <tr>\n",
       "      <th>2</th>\n",
       "      <td>20021124</td>\n",
       "      <td>29.35</td>\n",
       "    </tr>\n",
       "    <tr>\n",
       "      <th>3</th>\n",
       "      <td>20021127</td>\n",
       "      <td>28.11</td>\n",
       "    </tr>\n",
       "    <tr>\n",
       "      <th>4</th>\n",
       "      <td>20021202</td>\n",
       "      <td>28.28</td>\n",
       "    </tr>\n",
       "    <tr>\n",
       "      <th>...</th>\n",
       "      <td>...</td>\n",
       "      <td>...</td>\n",
       "    </tr>\n",
       "    <tr>\n",
       "      <th>940</th>\n",
       "      <td>20201104</td>\n",
       "      <td>30.07</td>\n",
       "    </tr>\n",
       "    <tr>\n",
       "      <th>941</th>\n",
       "      <td>20201119</td>\n",
       "      <td>29.66</td>\n",
       "    </tr>\n",
       "    <tr>\n",
       "      <th>942</th>\n",
       "      <td>20201204</td>\n",
       "      <td>28.19</td>\n",
       "    </tr>\n",
       "    <tr>\n",
       "      <th>943</th>\n",
       "      <td>20201211</td>\n",
       "      <td>31.93</td>\n",
       "    </tr>\n",
       "    <tr>\n",
       "      <th>944</th>\n",
       "      <td>20201216</td>\n",
       "      <td>28.90</td>\n",
       "    </tr>\n",
       "  </tbody>\n",
       "</table>\n",
       "<p>945 rows × 2 columns</p>\n",
       "</div>"
      ],
      "text/plain": [
       "         Date     PF\n",
       "0    20021120  31.16\n",
       "1    20021123  27.95\n",
       "2    20021124  29.35\n",
       "3    20021127  28.11\n",
       "4    20021202  28.28\n",
       "..        ...    ...\n",
       "940  20201104  30.07\n",
       "941  20201119  29.66\n",
       "942  20201204  28.19\n",
       "943  20201211  31.93\n",
       "944  20201216  28.90\n",
       "\n",
       "[945 rows x 2 columns]"
      ]
     },
     "execution_count": 14,
     "metadata": {},
     "output_type": "execute_result"
    }
   ],
   "source": [
    "dff2[['Date','PF']]"
   ]
  },
  {
   "cell_type": "code",
   "execution_count": 9,
   "metadata": {},
   "outputs": [],
   "source": [
    "dfnd = pd.read_csv('/home/poyraden/Analysis/Homogenization_public/Files/sodankyla/Metadata/All_metadata.csv')"
   ]
  },
  {
   "cell_type": "code",
   "execution_count": 10,
   "metadata": {},
   "outputs": [
    {
     "name": "stdout",
     "output_type": "stream",
     "text": [
      "['Unnamed: 0', 'BkgUsed', 'LaunchTime', 'Longitude', 'Latitude', 'SolutionVolume', 'SolutionConcentration', 'PF', 'iB0', 'iB2', 'DurationSurfaceOzoneExposure', 'SurfaceOzone', 'Pground', 'SondeTotalO3', 'TotalO3_Col2A', 'TotalO3_Col2B', 'CorrectionFactor', 'TLab', 'ULab', 'GroundEquipment', 'PumpTable', 'BackgroundCorrection', 'SerialECC', 'SensorType', 'InterfaceSerial', 'RadiosondeModel', 'RadiosondeSerial', 'Date', 'PumpTempLoc']\n"
     ]
    }
   ],
   "source": [
    "print(list(dfnd))"
   ]
  },
  {
   "cell_type": "code",
   "execution_count": 23,
   "metadata": {},
   "outputs": [],
   "source": [
    "dfnd = dfnd.sort_values(['Date'])"
   ]
  },
  {
   "cell_type": "code",
   "execution_count": 24,
   "metadata": {},
   "outputs": [
    {
     "data": {
      "text/html": [
       "<div>\n",
       "<style scoped>\n",
       "    .dataframe tbody tr th:only-of-type {\n",
       "        vertical-align: middle;\n",
       "    }\n",
       "\n",
       "    .dataframe tbody tr th {\n",
       "        vertical-align: top;\n",
       "    }\n",
       "\n",
       "    .dataframe thead th {\n",
       "        text-align: right;\n",
       "    }\n",
       "</style>\n",
       "<table border=\"1\" class=\"dataframe\">\n",
       "  <thead>\n",
       "    <tr style=\"text-align: right;\">\n",
       "      <th></th>\n",
       "      <th>Date</th>\n",
       "      <th>PF</th>\n",
       "    </tr>\n",
       "  </thead>\n",
       "  <tbody>\n",
       "    <tr>\n",
       "      <th>916</th>\n",
       "      <td>19911120</td>\n",
       "      <td>9999.00</td>\n",
       "    </tr>\n",
       "    <tr>\n",
       "      <th>917</th>\n",
       "      <td>19911127</td>\n",
       "      <td>9999.00</td>\n",
       "    </tr>\n",
       "    <tr>\n",
       "      <th>918</th>\n",
       "      <td>19911202</td>\n",
       "      <td>9999.00</td>\n",
       "    </tr>\n",
       "    <tr>\n",
       "      <th>919</th>\n",
       "      <td>19911203</td>\n",
       "      <td>9999.00</td>\n",
       "    </tr>\n",
       "    <tr>\n",
       "      <th>920</th>\n",
       "      <td>19911204</td>\n",
       "      <td>9999.00</td>\n",
       "    </tr>\n",
       "    <tr>\n",
       "      <th>...</th>\n",
       "      <td>...</td>\n",
       "      <td>...</td>\n",
       "    </tr>\n",
       "    <tr>\n",
       "      <th>911</th>\n",
       "      <td>20190709</td>\n",
       "      <td>28.58</td>\n",
       "    </tr>\n",
       "    <tr>\n",
       "      <th>912</th>\n",
       "      <td>20190725</td>\n",
       "      <td>28.15</td>\n",
       "    </tr>\n",
       "    <tr>\n",
       "      <th>913</th>\n",
       "      <td>20190814</td>\n",
       "      <td>28.13</td>\n",
       "    </tr>\n",
       "    <tr>\n",
       "      <th>914</th>\n",
       "      <td>20190905</td>\n",
       "      <td>29.49</td>\n",
       "    </tr>\n",
       "    <tr>\n",
       "      <th>915</th>\n",
       "      <td>20191003</td>\n",
       "      <td>29.63</td>\n",
       "    </tr>\n",
       "  </tbody>\n",
       "</table>\n",
       "<p>1353 rows × 2 columns</p>\n",
       "</div>"
      ],
      "text/plain": [
       "         Date       PF\n",
       "916  19911120  9999.00\n",
       "917  19911127  9999.00\n",
       "918  19911202  9999.00\n",
       "919  19911203  9999.00\n",
       "920  19911204  9999.00\n",
       "..        ...      ...\n",
       "911  20190709    28.58\n",
       "912  20190725    28.15\n",
       "913  20190814    28.13\n",
       "914  20190905    29.49\n",
       "915  20191003    29.63\n",
       "\n",
       "[1353 rows x 2 columns]"
      ]
     },
     "execution_count": 24,
     "metadata": {},
     "output_type": "execute_result"
    }
   ],
   "source": [
    "dfnd[['Date','PF']]"
   ]
  },
  {
   "cell_type": "code",
   "execution_count": 27,
   "metadata": {},
   "outputs": [
    {
     "data": {
      "text/plain": [
       "214"
      ]
     },
     "execution_count": 27,
     "metadata": {},
     "output_type": "execute_result"
    }
   ],
   "source": [
    "len(dfnd[(dfnd.Date > 19910101) & (dfnd.Date < 19970107)])"
   ]
  },
  {
   "cell_type": "code",
   "execution_count": 25,
   "metadata": {},
   "outputs": [
    {
     "data": {
      "text/plain": [
       "1353"
      ]
     },
     "execution_count": 25,
     "metadata": {},
     "output_type": "execute_result"
    }
   ],
   "source": [
    "len(dfnd)"
   ]
  },
  {
   "cell_type": "code",
   "execution_count": 20,
   "metadata": {},
   "outputs": [
    {
     "data": {
      "text/plain": [
       "19911120"
      ]
     },
     "execution_count": 20,
     "metadata": {},
     "output_type": "execute_result"
    }
   ],
   "source": [
    "dfnd.Date.min()"
   ]
  },
  {
   "cell_type": "code",
   "execution_count": 7,
   "metadata": {},
   "outputs": [
    {
     "data": {
      "text/html": [
       "<div>\n",
       "<style scoped>\n",
       "    .dataframe tbody tr th:only-of-type {\n",
       "        vertical-align: middle;\n",
       "    }\n",
       "\n",
       "    .dataframe tbody tr th {\n",
       "        vertical-align: top;\n",
       "    }\n",
       "\n",
       "    .dataframe thead th {\n",
       "        text-align: right;\n",
       "    }\n",
       "</style>\n",
       "<table border=\"1\" class=\"dataframe\">\n",
       "  <thead>\n",
       "    <tr style=\"text-align: right;\">\n",
       "      <th></th>\n",
       "      <th>Date</th>\n",
       "      <th>SolutionVolume</th>\n",
       "      <th>SolutionConcentration</th>\n",
       "      <th>SensorType</th>\n",
       "    </tr>\n",
       "  </thead>\n",
       "  <tbody>\n",
       "    <tr>\n",
       "      <th>0</th>\n",
       "      <td>20021120</td>\n",
       "      <td>3.0</td>\n",
       "      <td>10.0</td>\n",
       "      <td>DMT-Z</td>\n",
       "    </tr>\n",
       "    <tr>\n",
       "      <th>1</th>\n",
       "      <td>20021123</td>\n",
       "      <td>3.0</td>\n",
       "      <td>10.0</td>\n",
       "      <td>DMT-Z</td>\n",
       "    </tr>\n",
       "    <tr>\n",
       "      <th>2</th>\n",
       "      <td>20021124</td>\n",
       "      <td>3.0</td>\n",
       "      <td>10.0</td>\n",
       "      <td>DMT-Z</td>\n",
       "    </tr>\n",
       "    <tr>\n",
       "      <th>3</th>\n",
       "      <td>20021127</td>\n",
       "      <td>3.0</td>\n",
       "      <td>10.0</td>\n",
       "      <td>DMT-Z</td>\n",
       "    </tr>\n",
       "    <tr>\n",
       "      <th>4</th>\n",
       "      <td>20021202</td>\n",
       "      <td>3.0</td>\n",
       "      <td>10.0</td>\n",
       "      <td>DMT-Z</td>\n",
       "    </tr>\n",
       "    <tr>\n",
       "      <th>...</th>\n",
       "      <td>...</td>\n",
       "      <td>...</td>\n",
       "      <td>...</td>\n",
       "      <td>...</td>\n",
       "    </tr>\n",
       "    <tr>\n",
       "      <th>940</th>\n",
       "      <td>20201104</td>\n",
       "      <td>3.0</td>\n",
       "      <td>5.0</td>\n",
       "      <td>DMT-Z</td>\n",
       "    </tr>\n",
       "    <tr>\n",
       "      <th>941</th>\n",
       "      <td>20201119</td>\n",
       "      <td>3.0</td>\n",
       "      <td>5.0</td>\n",
       "      <td>DMT-Z</td>\n",
       "    </tr>\n",
       "    <tr>\n",
       "      <th>942</th>\n",
       "      <td>20201204</td>\n",
       "      <td>3.0</td>\n",
       "      <td>5.0</td>\n",
       "      <td>DMT-Z</td>\n",
       "    </tr>\n",
       "    <tr>\n",
       "      <th>943</th>\n",
       "      <td>20201211</td>\n",
       "      <td>3.0</td>\n",
       "      <td>5.0</td>\n",
       "      <td>DMT-Z</td>\n",
       "    </tr>\n",
       "    <tr>\n",
       "      <th>944</th>\n",
       "      <td>20201216</td>\n",
       "      <td>3.0</td>\n",
       "      <td>5.0</td>\n",
       "      <td>DMT-Z</td>\n",
       "    </tr>\n",
       "  </tbody>\n",
       "</table>\n",
       "<p>945 rows × 4 columns</p>\n",
       "</div>"
      ],
      "text/plain": [
       "         Date SolutionVolume SolutionConcentration SensorType\n",
       "0    20021120            3.0                  10.0      DMT-Z\n",
       "1    20021123            3.0                  10.0      DMT-Z\n",
       "2    20021124            3.0                  10.0      DMT-Z\n",
       "3    20021127            3.0                  10.0      DMT-Z\n",
       "4    20021202            3.0                  10.0      DMT-Z\n",
       "..        ...            ...                   ...        ...\n",
       "940  20201104            3.0                   5.0      DMT-Z\n",
       "941  20201119            3.0                   5.0      DMT-Z\n",
       "942  20201204            3.0                   5.0      DMT-Z\n",
       "943  20201211            3.0                   5.0      DMT-Z\n",
       "944  20201216            3.0                   5.0      DMT-Z\n",
       "\n",
       "[945 rows x 4 columns]"
      ]
     },
     "execution_count": 7,
     "metadata": {},
     "output_type": "execute_result"
    }
   ],
   "source": [
    "dff2[['Date', 'SolutionVolume', 'SolutionConcentration', 'SensorType']]"
   ]
  },
  {
   "cell_type": "code",
   "execution_count": 44,
   "metadata": {},
   "outputs": [
    {
     "data": {
      "text/plain": [
       "Date                     object\n",
       "SolutionVolume           object\n",
       "SolutionConcentration    object\n",
       "SensorType               object\n",
       "dtype: object"
      ]
     },
     "execution_count": 44,
     "metadata": {},
     "output_type": "execute_result"
    }
   ],
   "source": [
    "dff[['Date', 'SolutionVolume', 'SolutionConcentration', 'SensorType']].dtypes"
   ]
  },
  {
   "cell_type": "code",
   "execution_count": 96,
   "metadata": {},
   "outputs": [
    {
     "data": {
      "text/html": [
       "<div>\n",
       "<style scoped>\n",
       "    .dataframe tbody tr th:only-of-type {\n",
       "        vertical-align: middle;\n",
       "    }\n",
       "\n",
       "    .dataframe tbody tr th {\n",
       "        vertical-align: top;\n",
       "    }\n",
       "\n",
       "    .dataframe thead th {\n",
       "        text-align: right;\n",
       "    }\n",
       "</style>\n",
       "<table border=\"1\" class=\"dataframe\">\n",
       "  <thead>\n",
       "    <tr style=\"text-align: right;\">\n",
       "      <th></th>\n",
       "      <th>Date</th>\n",
       "      <th>SolutionVolume</th>\n",
       "      <th>SolutionConcentration</th>\n",
       "      <th>SensorType</th>\n",
       "    </tr>\n",
       "  </thead>\n",
       "  <tbody>\n",
       "    <tr>\n",
       "      <th>216</th>\n",
       "      <td>20060324</td>\n",
       "      <td>3</td>\n",
       "      <td>3</td>\n",
       "      <td>DMT-Z</td>\n",
       "    </tr>\n",
       "    <tr>\n",
       "      <th>240</th>\n",
       "      <td>20060427</td>\n",
       "      <td>3</td>\n",
       "      <td>3</td>\n",
       "      <td>DMT-Z</td>\n",
       "    </tr>\n",
       "    <tr>\n",
       "      <th>243</th>\n",
       "      <td>20060517</td>\n",
       "      <td>3</td>\n",
       "      <td>3</td>\n",
       "      <td>DMT-Z</td>\n",
       "    </tr>\n",
       "  </tbody>\n",
       "</table>\n",
       "</div>"
      ],
      "text/plain": [
       "         Date SolutionVolume SolutionConcentration SensorType\n",
       "216  20060324              3                     3      DMT-Z\n",
       "240  20060427              3                     3      DMT-Z\n",
       "243  20060517              3                     3      DMT-Z"
      ]
     },
     "execution_count": 96,
     "metadata": {},
     "output_type": "execute_result"
    }
   ],
   "source": [
    "dff[(dff.SolutionConcentration.astype(float) == 3) & (dff.SensorType == 'DMT-Z')][['Date', 'SolutionVolume', 'SolutionConcentration', 'SensorType']]"
   ]
  },
  {
   "cell_type": "code",
   "execution_count": 47,
   "metadata": {},
   "outputs": [
    {
     "data": {
      "text/html": [
       "<div>\n",
       "<style scoped>\n",
       "    .dataframe tbody tr th:only-of-type {\n",
       "        vertical-align: middle;\n",
       "    }\n",
       "\n",
       "    .dataframe tbody tr th {\n",
       "        vertical-align: top;\n",
       "    }\n",
       "\n",
       "    .dataframe thead th {\n",
       "        text-align: right;\n",
       "    }\n",
       "</style>\n",
       "<table border=\"1\" class=\"dataframe\">\n",
       "  <thead>\n",
       "    <tr style=\"text-align: right;\">\n",
       "      <th></th>\n",
       "      <th>Date</th>\n",
       "      <th>SolutionVolume</th>\n",
       "      <th>SolutionConcentration</th>\n",
       "      <th>SensorType</th>\n",
       "    </tr>\n",
       "  </thead>\n",
       "  <tbody>\n",
       "    <tr>\n",
       "      <th>308</th>\n",
       "      <td>20070218</td>\n",
       "      <td>3</td>\n",
       "      <td>5</td>\n",
       "      <td>SPC</td>\n",
       "    </tr>\n",
       "  </tbody>\n",
       "</table>\n",
       "</div>"
      ],
      "text/plain": [
       "         Date SolutionVolume SolutionConcentration SensorType\n",
       "308  20070218              3                     5        SPC"
      ]
     },
     "execution_count": 47,
     "metadata": {},
     "output_type": "execute_result"
    }
   ],
   "source": [
    "dff[(dff.SolutionConcentration.astype(float) == 5.0) & (dff.SensorType == 'SPC')][['Date', 'SolutionVolume', 'SolutionConcentration', 'SensorType']]"
   ]
  },
  {
   "cell_type": "code",
   "execution_count": 90,
   "metadata": {},
   "outputs": [
    {
     "data": {
      "text/plain": [
       "('20021120', '20201216')"
      ]
     },
     "execution_count": 90,
     "metadata": {},
     "output_type": "execute_result"
    }
   ],
   "source": [
    "dff.Date.min(), dff.Date.max()"
   ]
  },
  {
   "cell_type": "code",
   "execution_count": 58,
   "metadata": {},
   "outputs": [],
   "source": [
    "nilu_dates = dff.Date.tolist()\n"
   ]
  },
  {
   "cell_type": "code",
   "execution_count": 62,
   "metadata": {},
   "outputs": [],
   "source": [
    "dfnd = pd.read_hdf('/home/poyraden/Analysis/Homogenization_public/Files/sodankyla/Metadata/All_metadata.hdf')\n",
    "dfnd  = dfnd[dfnd.Date >= '20021120']"
   ]
  },
  {
   "cell_type": "code",
   "execution_count": 91,
   "metadata": {},
   "outputs": [
    {
     "data": {
      "text/plain": [
       "'20191003'"
      ]
     },
     "execution_count": 91,
     "metadata": {},
     "output_type": "execute_result"
    }
   ],
   "source": [
    "dfnd.Date.max()"
   ]
  },
  {
   "cell_type": "code",
   "execution_count": 63,
   "metadata": {},
   "outputs": [],
   "source": [
    "ndac_dates = dfnd[dfnd.Date >= '20021120'].Date.tolist()"
   ]
  },
  {
   "cell_type": "code",
   "execution_count": 64,
   "metadata": {},
   "outputs": [
    {
     "data": {
      "text/plain": [
       "(945, 747)"
      ]
     },
     "execution_count": 64,
     "metadata": {},
     "output_type": "execute_result"
    }
   ],
   "source": [
    "len(nilu_dates), len(ndac_dates)"
   ]
  },
  {
   "cell_type": "code",
   "execution_count": 61,
   "metadata": {},
   "outputs": [],
   "source": [
    "common_dates = list(set(nilu_dates).intersection(set(ndac_dates)))\n"
   ]
  },
  {
   "cell_type": "code",
   "execution_count": 65,
   "metadata": {},
   "outputs": [],
   "source": [
    "df1 = dff[dff['Date'].isin(common_dates)]\n"
   ]
  },
  {
   "cell_type": "code",
   "execution_count": 67,
   "metadata": {},
   "outputs": [],
   "source": [
    "df2 = dfnd[dfnd['Date'].isin(common_dates)]\n"
   ]
  },
  {
   "cell_type": "code",
   "execution_count": 72,
   "metadata": {},
   "outputs": [],
   "source": [
    "df1 = df1.drop_duplicates('Date')\n",
    "df2 = df2.drop_duplicates('Date')"
   ]
  },
  {
   "cell_type": "code",
   "execution_count": 73,
   "metadata": {},
   "outputs": [
    {
     "data": {
      "text/plain": [
       "(731, 731)"
      ]
     },
     "execution_count": 73,
     "metadata": {},
     "output_type": "execute_result"
    }
   ],
   "source": [
    "len(df1), len(df2)"
   ]
  },
  {
   "cell_type": "code",
   "execution_count": 77,
   "metadata": {},
   "outputs": [],
   "source": [
    "df1not = dff[~dff.Date.isin(common_dates)]\n",
    "df2not = dfnd[~dfnd.Date.isin(common_dates)]"
   ]
  },
  {
   "cell_type": "code",
   "execution_count": 78,
   "metadata": {},
   "outputs": [
    {
     "data": {
      "text/plain": [
       "(206, 14)"
      ]
     },
     "execution_count": 78,
     "metadata": {},
     "output_type": "execute_result"
    }
   ],
   "source": [
    "len(df1not), len(df2not)"
   ]
  },
  {
   "cell_type": "code",
   "execution_count": 94,
   "metadata": {},
   "outputs": [
    {
     "data": {
      "text/html": [
       "<div>\n",
       "<style scoped>\n",
       "    .dataframe tbody tr th:only-of-type {\n",
       "        vertical-align: middle;\n",
       "    }\n",
       "\n",
       "    .dataframe tbody tr th {\n",
       "        vertical-align: top;\n",
       "    }\n",
       "\n",
       "    .dataframe thead th {\n",
       "        text-align: right;\n",
       "    }\n",
       "</style>\n",
       "<table border=\"1\" class=\"dataframe\">\n",
       "  <thead>\n",
       "    <tr style=\"text-align: right;\">\n",
       "      <th></th>\n",
       "      <th>Date</th>\n",
       "      <th>SolutionConcentration</th>\n",
       "      <th>SensorType</th>\n",
       "    </tr>\n",
       "  </thead>\n",
       "  <tbody>\n",
       "    <tr>\n",
       "      <th>125</th>\n",
       "      <td>20040929</td>\n",
       "      <td>10.0</td>\n",
       "      <td>DMT-Z</td>\n",
       "    </tr>\n",
       "    <tr>\n",
       "      <th>126</th>\n",
       "      <td>20041006</td>\n",
       "      <td>10.0</td>\n",
       "      <td>DMT-Z</td>\n",
       "    </tr>\n",
       "    <tr>\n",
       "      <th>129</th>\n",
       "      <td>20041027</td>\n",
       "      <td>10.0</td>\n",
       "      <td>DMT-Z</td>\n",
       "    </tr>\n",
       "    <tr>\n",
       "      <th>130</th>\n",
       "      <td>20041103</td>\n",
       "      <td>10.0</td>\n",
       "      <td>DMT-Z</td>\n",
       "    </tr>\n",
       "    <tr>\n",
       "      <th>132</th>\n",
       "      <td>20041117</td>\n",
       "      <td>10.0</td>\n",
       "      <td>DMT-Z</td>\n",
       "    </tr>\n",
       "    <tr>\n",
       "      <th>173</th>\n",
       "      <td>20050511</td>\n",
       "      <td>10.0</td>\n",
       "      <td>DMT-Z</td>\n",
       "    </tr>\n",
       "    <tr>\n",
       "      <th>185</th>\n",
       "      <td>20050804</td>\n",
       "      <td>10.0</td>\n",
       "      <td>DMT-Z</td>\n",
       "    </tr>\n",
       "    <tr>\n",
       "      <th>186</th>\n",
       "      <td>20050810</td>\n",
       "      <td>10.0</td>\n",
       "      <td>DMT-Z</td>\n",
       "    </tr>\n",
       "    <tr>\n",
       "      <th>198</th>\n",
       "      <td>20051102</td>\n",
       "      <td>10.0</td>\n",
       "      <td>DMT-Z</td>\n",
       "    </tr>\n",
       "  </tbody>\n",
       "</table>\n",
       "</div>"
      ],
      "text/plain": [
       "         Date SolutionConcentration SensorType\n",
       "125  20040929                  10.0      DMT-Z\n",
       "126  20041006                  10.0      DMT-Z\n",
       "129  20041027                  10.0      DMT-Z\n",
       "130  20041103                  10.0      DMT-Z\n",
       "132  20041117                  10.0      DMT-Z\n",
       "173  20050511                  10.0      DMT-Z\n",
       "185  20050804                  10.0      DMT-Z\n",
       "186  20050810                  10.0      DMT-Z\n",
       "198  20051102                  10.0      DMT-Z"
      ]
     },
     "execution_count": 94,
     "metadata": {},
     "output_type": "execute_result"
    }
   ],
   "source": [
    "df1not[(df1not.SolutionConcentration.astype(float) == 10) & (df1not.SensorType =='DMT-Z')][['Date', 'SolutionConcentration', 'SensorType']]"
   ]
  },
  {
   "cell_type": "code",
   "execution_count": 95,
   "metadata": {},
   "outputs": [
    {
     "data": {
      "text/html": [
       "<div>\n",
       "<style scoped>\n",
       "    .dataframe tbody tr th:only-of-type {\n",
       "        vertical-align: middle;\n",
       "    }\n",
       "\n",
       "    .dataframe tbody tr th {\n",
       "        vertical-align: top;\n",
       "    }\n",
       "\n",
       "    .dataframe thead th {\n",
       "        text-align: right;\n",
       "    }\n",
       "</style>\n",
       "<table border=\"1\" class=\"dataframe\">\n",
       "  <thead>\n",
       "    <tr style=\"text-align: right;\">\n",
       "      <th></th>\n",
       "      <th>Date</th>\n",
       "      <th>SolutionConcentration</th>\n",
       "      <th>SensorType</th>\n",
       "    </tr>\n",
       "  </thead>\n",
       "  <tbody>\n",
       "    <tr>\n",
       "      <th>308</th>\n",
       "      <td>20070218</td>\n",
       "      <td>5</td>\n",
       "      <td>SPC</td>\n",
       "    </tr>\n",
       "  </tbody>\n",
       "</table>\n",
       "</div>"
      ],
      "text/plain": [
       "         Date SolutionConcentration SensorType\n",
       "308  20070218                     5        SPC"
      ]
     },
     "execution_count": 95,
     "metadata": {},
     "output_type": "execute_result"
    }
   ],
   "source": [
    "df1not[(df1not.SolutionConcentration.astype(float) == 5) & (df1not.SensorType =='SPC')][['Date', 'SolutionConcentration', 'SensorType']]"
   ]
  },
  {
   "cell_type": "code",
   "execution_count": 80,
   "metadata": {},
   "outputs": [],
   "source": [
    "nilu_not_ndacc = df1not.Date.tolist()"
   ]
  },
  {
   "cell_type": "code",
   "execution_count": 81,
   "metadata": {
    "scrolled": true
   },
   "outputs": [
    {
     "name": "stdout",
     "output_type": "stream",
     "text": [
      "['20040227', '20040908', '20040915', '20040922', '20040929', '20041006', '20041013', '20041021', '20041027', '20041103', '20041110', '20041117', '20041124', '20041201', '20041208', '20041215', '20041223', '20041227', '20041229', '20050102', '20050105', '20050107', '20050109', '20050112', '20050118', '20050119', '20050123', '20050131', '20050202', '20050203', '20050209', '20050210', '20050211', '20050219', '20050221', '20050225', '20050228', '20050304', '20050307', '20050308', '20050310', '20050316', '20050316', '20050317', '20050323', '20050325', '20050330', '20050406', '20050420', '20050427', '20050427', '20050504', '20050511', '20050518', '20050525', '20050601', '20050608', '20050615', '20050622', '20050629', '20050706', '20050714', '20050720', '20050727', '20050804', '20050810', '20050817', '20050824', '20050831', '20050907', '20050914', '20050921', '20050929', '20051005', '20051012', '20051019', '20051026', '20051102', '20051116', '20051208', '20060323', '20060324', '20060325', '20060326', '20060327', '20060328', '20060328', '20060330', '20060331', '20060331', '20060401', '20060402', '20060403', '20060404', '20060406', '20060406', '20060407', '20060408', '20060408', '20060409', '20060410', '20061101', '20070131', '20070201', '20070202', '20070202', '20070203', '20070204', '20070205', '20070206', '20070208', '20070209', '20070209', '20070210', '20070211', '20070212', '20070212', '20070213', '20070213', '20070215', '20070215', '20070216', '20070217', '20070217', '20070218', '20070218', '20070219', '20070219', '20070220', '20070222', '20070223', '20070224', '20070225', '20070226', '20070226', '20070227', '20070227', '20070302', '20070303', '20070306', '20081022', '20090325', '20100527', '20100602', '20100721', '20100728', '20100818', '20100922', '20100929', '20101006', '20101222', '20110331', '20110402', '20110503', '20110706', '20110831', '20111012', '20111019', '20111103', '20111109', '20111116', '20111123', '20130905', '20140108', '20150304', '20180625', '20191016', '20191030', '20191121', '20191204', '20191212', '20191219', '20200103', '20200110', '20200115', '20200122', '20200124', '20200128', '20200211', '20200212', '20200225', '20200304', '20200320', '20200330', '20200402', '20200406', '20200409', '20200417', '20200507', '20200512', '20200522', '20200604', '20200616', '20200709', '20200722', '20200807', '20200826', '20200911', '20200924', '20201008', '20201021', '20201104', '20201119', '20201204', '20201211', '20201216']\n"
     ]
    }
   ],
   "source": [
    "print(nilu_not_ndacc)"
   ]
  },
  {
   "cell_type": "code",
   "execution_count": 88,
   "metadata": {},
   "outputs": [
    {
     "data": {
      "text/html": [
       "<div>\n",
       "<style scoped>\n",
       "    .dataframe tbody tr th:only-of-type {\n",
       "        vertical-align: middle;\n",
       "    }\n",
       "\n",
       "    .dataframe tbody tr th {\n",
       "        vertical-align: top;\n",
       "    }\n",
       "\n",
       "    .dataframe thead th {\n",
       "        text-align: right;\n",
       "    }\n",
       "</style>\n",
       "<table border=\"1\" class=\"dataframe\">\n",
       "  <thead>\n",
       "    <tr style=\"text-align: right;\">\n",
       "      <th></th>\n",
       "      <th>BkgUsed</th>\n",
       "      <th>LaunchTime</th>\n",
       "      <th>Longitude</th>\n",
       "      <th>Latitude</th>\n",
       "      <th>SolutionVolume</th>\n",
       "      <th>SolutionConcentration</th>\n",
       "      <th>PF</th>\n",
       "      <th>iB0</th>\n",
       "      <th>iB2</th>\n",
       "      <th>DurationSurfaceOzoneExposure</th>\n",
       "      <th>...</th>\n",
       "      <th>GroundEquipment</th>\n",
       "      <th>PumpTable</th>\n",
       "      <th>BackgroundCorrection</th>\n",
       "      <th>SerialECC</th>\n",
       "      <th>SensorType</th>\n",
       "      <th>InterfaceSerial</th>\n",
       "      <th>RadiosondeModel</th>\n",
       "      <th>RadiosondeSerial</th>\n",
       "      <th>Date</th>\n",
       "      <th>PumpTempLoc</th>\n",
       "    </tr>\n",
       "  </thead>\n",
       "  <tbody>\n",
       "    <tr>\n",
       "      <th>321</th>\n",
       "      <td>Constant</td>\n",
       "      <td>11.5139</td>\n",
       "      <td>26.6297</td>\n",
       "      <td>67.3666</td>\n",
       "      <td>3</td>\n",
       "      <td>5</td>\n",
       "      <td>27.49</td>\n",
       "      <td>0.008</td>\n",
       "      <td>0.008</td>\n",
       "      <td>15</td>\n",
       "      <td>...</td>\n",
       "      <td>Vaisala DigiCORA III</td>\n",
       "      <td>zzzzzzzzzzzzzzzzzzzz</td>\n",
       "      <td>Constant</td>\n",
       "      <td>Z10638u</td>\n",
       "      <td>DMT-Z</td>\n",
       "      <td>A51315035</td>\n",
       "      <td>NaN</td>\n",
       "      <td>NaN</td>\n",
       "      <td>20060607</td>\n",
       "      <td>Pump hole</td>\n",
       "    </tr>\n",
       "  </tbody>\n",
       "</table>\n",
       "<p>1 rows × 28 columns</p>\n",
       "</div>"
      ],
      "text/plain": [
       "      BkgUsed LaunchTime Longitude Latitude SolutionVolume  \\\n",
       "321  Constant    11.5139   26.6297  67.3666              3   \n",
       "\n",
       "    SolutionConcentration     PF    iB0    iB2 DurationSurfaceOzoneExposure  \\\n",
       "321                     5  27.49  0.008  0.008                           15   \n",
       "\n",
       "     ...       GroundEquipment             PumpTable BackgroundCorrection  \\\n",
       "321  ...  Vaisala DigiCORA III  zzzzzzzzzzzzzzzzzzzz             Constant   \n",
       "\n",
       "    SerialECC SensorType InterfaceSerial RadiosondeModel RadiosondeSerial  \\\n",
       "321   Z10638u      DMT-Z       A51315035             NaN              NaN   \n",
       "\n",
       "         Date PumpTempLoc  \n",
       "321  20060607   Pump hole  \n",
       "\n",
       "[1 rows x 28 columns]"
      ]
     },
     "execution_count": 88,
     "metadata": {},
     "output_type": "execute_result"
    }
   ],
   "source": [
    "dfnd[dfnd.Date == '20060607']"
   ]
  },
  {
   "cell_type": "code",
   "execution_count": 85,
   "metadata": {},
   "outputs": [],
   "source": [
    "ndacc_not_nilu = df2not.Date.tolist()"
   ]
  },
  {
   "cell_type": "code",
   "execution_count": 89,
   "metadata": {},
   "outputs": [
    {
     "name": "stdout",
     "output_type": "stream",
     "text": [
      "['20040714', '20050222', '20050301', '20050322', '20050412', '20060208', '20060222', '20060412', '20060419', '20060607', '20060628', '20060802', '20090701', '20110504']\n"
     ]
    }
   ],
   "source": [
    "print(ndacc_not_nilu)"
   ]
  },
  {
   "cell_type": "code",
   "execution_count": 92,
   "metadata": {},
   "outputs": [
    {
     "data": {
      "text/plain": [
       "214"
      ]
     },
     "execution_count": 92,
     "metadata": {},
     "output_type": "execute_result"
    }
   ],
   "source": [
    "945 - 731"
   ]
  },
  {
   "cell_type": "code",
   "execution_count": 97,
   "metadata": {},
   "outputs": [],
   "source": [
    "#uccle \n",
    "dfu = pd.read_csv('/home/poyraden/Analysis/Homogenization_public/Files/uccle/Raw/Metadata/All_metadata.csv')"
   ]
  },
  {
   "cell_type": "code",
   "execution_count": 98,
   "metadata": {},
   "outputs": [
    {
     "data": {
      "text/html": [
       "<div>\n",
       "<style scoped>\n",
       "    .dataframe tbody tr th:only-of-type {\n",
       "        vertical-align: middle;\n",
       "    }\n",
       "\n",
       "    .dataframe tbody tr th {\n",
       "        vertical-align: top;\n",
       "    }\n",
       "\n",
       "    .dataframe thead th {\n",
       "        text-align: right;\n",
       "    }\n",
       "</style>\n",
       "<table border=\"1\" class=\"dataframe\">\n",
       "  <thead>\n",
       "    <tr style=\"text-align: right;\">\n",
       "      <th></th>\n",
       "      <th>Unnamed: 0</th>\n",
       "      <th>mDate</th>\n",
       "      <th>mRadioSondeNr</th>\n",
       "      <th>PF</th>\n",
       "      <th>iB0</th>\n",
       "      <th>iB1</th>\n",
       "      <th>CorrectionFactor</th>\n",
       "      <th>SondeNr</th>\n",
       "      <th>InterfaceNr</th>\n",
       "      <th>DateTime</th>\n",
       "      <th>Datenf</th>\n",
       "    </tr>\n",
       "  </thead>\n",
       "  <tbody>\n",
       "    <tr>\n",
       "      <th>0</th>\n",
       "      <td>0</td>\n",
       "      <td>1996101612</td>\n",
       "      <td>631308110</td>\n",
       "      <td>29.80</td>\n",
       "      <td>-1.000</td>\n",
       "      <td>-1.000</td>\n",
       "      <td>0.9880</td>\n",
       "      <td>2088</td>\n",
       "      <td>880122010232X</td>\n",
       "      <td>1996-10-16 12:00:00</td>\n",
       "      <td>19961016</td>\n",
       "    </tr>\n",
       "    <tr>\n",
       "      <th>1</th>\n",
       "      <td>1</td>\n",
       "      <td>1996102312</td>\n",
       "      <td>631308113</td>\n",
       "      <td>30.50</td>\n",
       "      <td>-1.000</td>\n",
       "      <td>-1.000</td>\n",
       "      <td>0.9506</td>\n",
       "      <td>2093</td>\n",
       "      <td>880094810035X</td>\n",
       "      <td>1996-10-23 12:00:00</td>\n",
       "      <td>19961023</td>\n",
       "    </tr>\n",
       "    <tr>\n",
       "      <th>2</th>\n",
       "      <td>2</td>\n",
       "      <td>1996103012</td>\n",
       "      <td>XXXXXXXXX</td>\n",
       "      <td>31.00</td>\n",
       "      <td>0.040</td>\n",
       "      <td>-1.000</td>\n",
       "      <td>0.9672</td>\n",
       "      <td>2089</td>\n",
       "      <td>880122010264X</td>\n",
       "      <td>1996-10-30 12:00:00</td>\n",
       "      <td>19961030</td>\n",
       "    </tr>\n",
       "    <tr>\n",
       "      <th>3</th>\n",
       "      <td>3</td>\n",
       "      <td>1996111312</td>\n",
       "      <td>631306801</td>\n",
       "      <td>31.00</td>\n",
       "      <td>0.010</td>\n",
       "      <td>-1.000</td>\n",
       "      <td>0.9618</td>\n",
       "      <td>2085</td>\n",
       "      <td>880122010239X</td>\n",
       "      <td>1996-11-13 12:00:00</td>\n",
       "      <td>19961113</td>\n",
       "    </tr>\n",
       "    <tr>\n",
       "      <th>4</th>\n",
       "      <td>4</td>\n",
       "      <td>1996112712</td>\n",
       "      <td>631307609</td>\n",
       "      <td>31.00</td>\n",
       "      <td>0.008</td>\n",
       "      <td>-1.000</td>\n",
       "      <td>0.9869</td>\n",
       "      <td>2090</td>\n",
       "      <td>880142010205X</td>\n",
       "      <td>1996-11-27 12:00:00</td>\n",
       "      <td>19961127</td>\n",
       "    </tr>\n",
       "    <tr>\n",
       "      <th>...</th>\n",
       "      <td>...</td>\n",
       "      <td>...</td>\n",
       "      <td>...</td>\n",
       "      <td>...</td>\n",
       "      <td>...</td>\n",
       "      <td>...</td>\n",
       "      <td>...</td>\n",
       "      <td>...</td>\n",
       "      <td>...</td>\n",
       "      <td>...</td>\n",
       "      <td>...</td>\n",
       "    </tr>\n",
       "    <tr>\n",
       "      <th>3494</th>\n",
       "      <td>3494</td>\n",
       "      <td>2020121412</td>\n",
       "      <td>R3340684</td>\n",
       "      <td>29.20</td>\n",
       "      <td>0.036</td>\n",
       "      <td>0.092</td>\n",
       "      <td>1.0161</td>\n",
       "      <td>37637</td>\n",
       "      <td>S3913183</td>\n",
       "      <td>2020-12-14 12:00:00</td>\n",
       "      <td>20201214</td>\n",
       "    </tr>\n",
       "    <tr>\n",
       "      <th>3495</th>\n",
       "      <td>3495</td>\n",
       "      <td>2020121612</td>\n",
       "      <td>R3341097</td>\n",
       "      <td>29.83</td>\n",
       "      <td>0.028</td>\n",
       "      <td>0.086</td>\n",
       "      <td>1.0119</td>\n",
       "      <td>37638</td>\n",
       "      <td>S3913182</td>\n",
       "      <td>2020-12-16 12:00:00</td>\n",
       "      <td>20201216</td>\n",
       "    </tr>\n",
       "    <tr>\n",
       "      <th>3496</th>\n",
       "      <td>3496</td>\n",
       "      <td>2020121812</td>\n",
       "      <td>R3341163</td>\n",
       "      <td>29.48</td>\n",
       "      <td>0.005</td>\n",
       "      <td>0.066</td>\n",
       "      <td>1.0024</td>\n",
       "      <td>37636</td>\n",
       "      <td>S3913187</td>\n",
       "      <td>2020-12-18 12:00:00</td>\n",
       "      <td>20201218</td>\n",
       "    </tr>\n",
       "    <tr>\n",
       "      <th>3497</th>\n",
       "      <td>3497</td>\n",
       "      <td>2020122112</td>\n",
       "      <td>R3340683</td>\n",
       "      <td>31.25</td>\n",
       "      <td>0.005</td>\n",
       "      <td>0.052</td>\n",
       "      <td>1.0141</td>\n",
       "      <td>34940</td>\n",
       "      <td>R3353372</td>\n",
       "      <td>2020-12-21 12:00:00</td>\n",
       "      <td>20201221</td>\n",
       "    </tr>\n",
       "    <tr>\n",
       "      <th>3498</th>\n",
       "      <td>3498</td>\n",
       "      <td>2020122312</td>\n",
       "      <td>R3341161</td>\n",
       "      <td>30.20</td>\n",
       "      <td>0.025</td>\n",
       "      <td>0.100</td>\n",
       "      <td>1.0125</td>\n",
       "      <td>37654</td>\n",
       "      <td>S3913188</td>\n",
       "      <td>2020-12-23 12:00:00</td>\n",
       "      <td>20201223</td>\n",
       "    </tr>\n",
       "  </tbody>\n",
       "</table>\n",
       "<p>3499 rows × 11 columns</p>\n",
       "</div>"
      ],
      "text/plain": [
       "      Unnamed: 0       mDate mRadioSondeNr     PF    iB0    iB1  \\\n",
       "0              0  1996101612     631308110  29.80 -1.000 -1.000   \n",
       "1              1  1996102312     631308113  30.50 -1.000 -1.000   \n",
       "2              2  1996103012     XXXXXXXXX  31.00  0.040 -1.000   \n",
       "3              3  1996111312     631306801  31.00  0.010 -1.000   \n",
       "4              4  1996112712     631307609  31.00  0.008 -1.000   \n",
       "...          ...         ...           ...    ...    ...    ...   \n",
       "3494        3494  2020121412      R3340684  29.20  0.036  0.092   \n",
       "3495        3495  2020121612      R3341097  29.83  0.028  0.086   \n",
       "3496        3496  2020121812      R3341163  29.48  0.005  0.066   \n",
       "3497        3497  2020122112      R3340683  31.25  0.005  0.052   \n",
       "3498        3498  2020122312      R3341161  30.20  0.025  0.100   \n",
       "\n",
       "      CorrectionFactor SondeNr    InterfaceNr             DateTime    Datenf  \n",
       "0               0.9880    2088  880122010232X  1996-10-16 12:00:00  19961016  \n",
       "1               0.9506    2093  880094810035X  1996-10-23 12:00:00  19961023  \n",
       "2               0.9672    2089  880122010264X  1996-10-30 12:00:00  19961030  \n",
       "3               0.9618    2085  880122010239X  1996-11-13 12:00:00  19961113  \n",
       "4               0.9869    2090  880142010205X  1996-11-27 12:00:00  19961127  \n",
       "...                ...     ...            ...                  ...       ...  \n",
       "3494            1.0161   37637       S3913183  2020-12-14 12:00:00  20201214  \n",
       "3495            1.0119   37638       S3913182  2020-12-16 12:00:00  20201216  \n",
       "3496            1.0024   37636       S3913187  2020-12-18 12:00:00  20201218  \n",
       "3497            1.0141   34940       R3353372  2020-12-21 12:00:00  20201221  \n",
       "3498            1.0125   37654       S3913188  2020-12-23 12:00:00  20201223  \n",
       "\n",
       "[3499 rows x 11 columns]"
      ]
     },
     "execution_count": 98,
     "metadata": {},
     "output_type": "execute_result"
    }
   ],
   "source": [
    "dfu"
   ]
  },
  {
   "cell_type": "code",
   "execution_count": 102,
   "metadata": {},
   "outputs": [],
   "source": [
    "df = pd.read_hdf('/home/poyraden/Analysis/Homogenization_public/Files/uccle/DQA/20061108_all_hom_rs80.hdf')\n"
   ]
  },
  {
   "cell_type": "code",
   "execution_count": 104,
   "metadata": {},
   "outputs": [
    {
     "data": {
      "text/html": [
       "<div>\n",
       "<style scoped>\n",
       "    .dataframe tbody tr th:only-of-type {\n",
       "        vertical-align: middle;\n",
       "    }\n",
       "\n",
       "    .dataframe tbody tr th {\n",
       "        vertical-align: top;\n",
       "    }\n",
       "\n",
       "    .dataframe thead th {\n",
       "        text-align: right;\n",
       "    }\n",
       "</style>\n",
       "<table border=\"1\" class=\"dataframe\">\n",
       "  <thead>\n",
       "    <tr style=\"text-align: right;\">\n",
       "      <th></th>\n",
       "      <th>Crs</th>\n",
       "    </tr>\n",
       "  </thead>\n",
       "  <tbody>\n",
       "    <tr>\n",
       "      <th>0</th>\n",
       "      <td>-0.34</td>\n",
       "    </tr>\n",
       "    <tr>\n",
       "      <th>1</th>\n",
       "      <td>-0.34</td>\n",
       "    </tr>\n",
       "    <tr>\n",
       "      <th>2</th>\n",
       "      <td>-0.34</td>\n",
       "    </tr>\n",
       "    <tr>\n",
       "      <th>3</th>\n",
       "      <td>-0.34</td>\n",
       "    </tr>\n",
       "    <tr>\n",
       "      <th>4</th>\n",
       "      <td>-0.34</td>\n",
       "    </tr>\n",
       "    <tr>\n",
       "      <th>...</th>\n",
       "      <td>...</td>\n",
       "    </tr>\n",
       "    <tr>\n",
       "      <th>393</th>\n",
       "      <td>-1.02</td>\n",
       "    </tr>\n",
       "    <tr>\n",
       "      <th>394</th>\n",
       "      <td>-1.02</td>\n",
       "    </tr>\n",
       "    <tr>\n",
       "      <th>395</th>\n",
       "      <td>-1.02</td>\n",
       "    </tr>\n",
       "    <tr>\n",
       "      <th>396</th>\n",
       "      <td>-1.02</td>\n",
       "    </tr>\n",
       "    <tr>\n",
       "      <th>397</th>\n",
       "      <td>-1.02</td>\n",
       "    </tr>\n",
       "  </tbody>\n",
       "</table>\n",
       "<p>398 rows × 1 columns</p>\n",
       "</div>"
      ],
      "text/plain": [
       "      Crs\n",
       "0   -0.34\n",
       "1   -0.34\n",
       "2   -0.34\n",
       "3   -0.34\n",
       "4   -0.34\n",
       "..    ...\n",
       "393 -1.02\n",
       "394 -1.02\n",
       "395 -1.02\n",
       "396 -1.02\n",
       "397 -1.02\n",
       "\n",
       "[398 rows x 1 columns]"
      ]
     },
     "execution_count": 104,
     "metadata": {},
     "output_type": "execute_result"
    }
   ],
   "source": [
    "df[['Crs']]"
   ]
  },
  {
   "cell_type": "code",
   "execution_count": null,
   "metadata": {},
   "outputs": [],
   "source": []
  }
 ],
 "metadata": {
  "kernelspec": {
   "display_name": "Python 3",
   "language": "python",
   "name": "python3"
  },
  "language_info": {
   "codemirror_mode": {
    "name": "ipython",
    "version": 3
   },
   "file_extension": ".py",
   "mimetype": "text/x-python",
   "name": "python",
   "nbconvert_exporter": "python",
   "pygments_lexer": "ipython3",
   "version": "3.7.4"
  }
 },
 "nbformat": 4,
 "nbformat_minor": 2
}
