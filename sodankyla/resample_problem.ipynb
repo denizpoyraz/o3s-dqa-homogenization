{
 "cells": [
  {
   "cell_type": "code",
   "execution_count": 1,
   "metadata": {},
   "outputs": [],
   "source": [
    "import pandas as pd\n",
    "from datetime import datetime"
   ]
  },
  {
   "cell_type": "code",
   "execution_count": 2,
   "metadata": {},
   "outputs": [],
   "source": [
    "path = '/home/poyraden/Analysis/Homogenization_public/Files/sodankyla/'\n",
    "dfmeta = pd.read_csv(path + 'Metadata/All_metadata.csv')"
   ]
  },
  {
   "cell_type": "code",
   "execution_count": 29,
   "metadata": {},
   "outputs": [
    {
     "data": {
      "text/html": [
       "<div>\n",
       "<style scoped>\n",
       "    .dataframe tbody tr th:only-of-type {\n",
       "        vertical-align: middle;\n",
       "    }\n",
       "\n",
       "    .dataframe tbody tr th {\n",
       "        vertical-align: top;\n",
       "    }\n",
       "\n",
       "    .dataframe thead th {\n",
       "        text-align: right;\n",
       "    }\n",
       "</style>\n",
       "<table border=\"1\" class=\"dataframe\">\n",
       "  <thead>\n",
       "    <tr style=\"text-align: right;\">\n",
       "      <th></th>\n",
       "      <th>Date</th>\n",
       "      <th>TLab</th>\n",
       "      <th>ULab</th>\n",
       "      <th>Pground</th>\n",
       "    </tr>\n",
       "  </thead>\n",
       "  <tbody>\n",
       "    <tr>\n",
       "      <th>0</th>\n",
       "      <td>20000105</td>\n",
       "      <td>20.7</td>\n",
       "      <td>30.0</td>\n",
       "      <td>974.5</td>\n",
       "    </tr>\n",
       "    <tr>\n",
       "      <th>1</th>\n",
       "      <td>20000107</td>\n",
       "      <td>23.7</td>\n",
       "      <td>32.0</td>\n",
       "      <td>962.7</td>\n",
       "    </tr>\n",
       "    <tr>\n",
       "      <th>2</th>\n",
       "      <td>20000112</td>\n",
       "      <td>23.7</td>\n",
       "      <td>32.0</td>\n",
       "      <td>978.9</td>\n",
       "    </tr>\n",
       "    <tr>\n",
       "      <th>3</th>\n",
       "      <td>20000117</td>\n",
       "      <td>24.0</td>\n",
       "      <td>30.0</td>\n",
       "      <td>957.2</td>\n",
       "    </tr>\n",
       "    <tr>\n",
       "      <th>4</th>\n",
       "      <td>20000120</td>\n",
       "      <td>21.5</td>\n",
       "      <td>25.0</td>\n",
       "      <td>978.0</td>\n",
       "    </tr>\n",
       "    <tr>\n",
       "      <th>...</th>\n",
       "      <td>...</td>\n",
       "      <td>...</td>\n",
       "      <td>...</td>\n",
       "      <td>...</td>\n",
       "    </tr>\n",
       "    <tr>\n",
       "      <th>1348</th>\n",
       "      <td>19991124</td>\n",
       "      <td>24.1</td>\n",
       "      <td>36.0</td>\n",
       "      <td>997.2</td>\n",
       "    </tr>\n",
       "    <tr>\n",
       "      <th>1349</th>\n",
       "      <td>19991201</td>\n",
       "      <td>23.1</td>\n",
       "      <td>33.0</td>\n",
       "      <td>941.7</td>\n",
       "    </tr>\n",
       "    <tr>\n",
       "      <th>1350</th>\n",
       "      <td>19991208</td>\n",
       "      <td>22.7</td>\n",
       "      <td>24.0</td>\n",
       "      <td>967.3</td>\n",
       "    </tr>\n",
       "    <tr>\n",
       "      <th>1351</th>\n",
       "      <td>19991215</td>\n",
       "      <td>22.0</td>\n",
       "      <td>31.0</td>\n",
       "      <td>981.7</td>\n",
       "    </tr>\n",
       "    <tr>\n",
       "      <th>1352</th>\n",
       "      <td>19991229</td>\n",
       "      <td>22.7</td>\n",
       "      <td>31.0</td>\n",
       "      <td>984.2</td>\n",
       "    </tr>\n",
       "  </tbody>\n",
       "</table>\n",
       "<p>1353 rows × 4 columns</p>\n",
       "</div>"
      ],
      "text/plain": [
       "          Date  TLab  ULab  Pground\n",
       "0     20000105  20.7  30.0    974.5\n",
       "1     20000107  23.7  32.0    962.7\n",
       "2     20000112  23.7  32.0    978.9\n",
       "3     20000117  24.0  30.0    957.2\n",
       "4     20000120  21.5  25.0    978.0\n",
       "...        ...   ...   ...      ...\n",
       "1348  19991124  24.1  36.0    997.2\n",
       "1349  19991201  23.1  33.0    941.7\n",
       "1350  19991208  22.7  24.0    967.3\n",
       "1351  19991215  22.0  31.0    981.7\n",
       "1352  19991229  22.7  31.0    984.2\n",
       "\n",
       "[1353 rows x 4 columns]"
      ]
     },
     "execution_count": 29,
     "metadata": {},
     "output_type": "execute_result"
    }
   ],
   "source": [
    "dfmeta[['Date', 'TLab','ULab','Pground']]"
   ]
  },
  {
   "cell_type": "code",
   "execution_count": 30,
   "metadata": {},
   "outputs": [],
   "source": [
    "series = dfmeta[['Date', 'TLab','ULab','Pground']]"
   ]
  },
  {
   "cell_type": "code",
   "execution_count": 31,
   "metadata": {},
   "outputs": [
    {
     "name": "stderr",
     "output_type": "stream",
     "text": [
      "/home/poyraden/anaconda3/lib/python3.7/site-packages/ipykernel_launcher.py:1: SettingWithCopyWarning: \n",
      "A value is trying to be set on a copy of a slice from a DataFrame.\n",
      "Try using .loc[row_indexer,col_indexer] = value instead\n",
      "\n",
      "See the caveats in the documentation: https://pandas.pydata.org/pandas-docs/stable/user_guide/indexing.html#returning-a-view-versus-a-copy\n",
      "  \"\"\"Entry point for launching an IPython kernel.\n"
     ]
    }
   ],
   "source": [
    "series['Date']  = series['Date'].apply(lambda x: datetime.strptime(str(x), '%Y%m%d'))\n"
   ]
  },
  {
   "cell_type": "code",
   "execution_count": 32,
   "metadata": {},
   "outputs": [],
   "source": [
    "series = series.set_index('Date')"
   ]
  },
  {
   "cell_type": "code",
   "execution_count": 33,
   "metadata": {},
   "outputs": [],
   "source": [
    "upsampled = series.resample('1M').mean()"
   ]
  },
  {
   "cell_type": "code",
   "execution_count": 34,
   "metadata": {},
   "outputs": [
    {
     "data": {
      "text/html": [
       "<div>\n",
       "<style scoped>\n",
       "    .dataframe tbody tr th:only-of-type {\n",
       "        vertical-align: middle;\n",
       "    }\n",
       "\n",
       "    .dataframe tbody tr th {\n",
       "        vertical-align: top;\n",
       "    }\n",
       "\n",
       "    .dataframe thead th {\n",
       "        text-align: right;\n",
       "    }\n",
       "</style>\n",
       "<table border=\"1\" class=\"dataframe\">\n",
       "  <thead>\n",
       "    <tr style=\"text-align: right;\">\n",
       "      <th></th>\n",
       "      <th>TLab</th>\n",
       "      <th>ULab</th>\n",
       "      <th>Pground</th>\n",
       "    </tr>\n",
       "    <tr>\n",
       "      <th>Date</th>\n",
       "      <th></th>\n",
       "      <th></th>\n",
       "      <th></th>\n",
       "    </tr>\n",
       "  </thead>\n",
       "  <tbody>\n",
       "    <tr>\n",
       "      <th>1999-01-31</th>\n",
       "      <td>21.800000</td>\n",
       "      <td>29.666667</td>\n",
       "      <td>982.655556</td>\n",
       "    </tr>\n",
       "    <tr>\n",
       "      <th>1999-02-28</th>\n",
       "      <td>22.614286</td>\n",
       "      <td>26.142857</td>\n",
       "      <td>976.542857</td>\n",
       "    </tr>\n",
       "    <tr>\n",
       "      <th>1999-03-31</th>\n",
       "      <td>22.428571</td>\n",
       "      <td>29.428571</td>\n",
       "      <td>990.214286</td>\n",
       "    </tr>\n",
       "    <tr>\n",
       "      <th>1999-04-30</th>\n",
       "      <td>23.175000</td>\n",
       "      <td>31.500000</td>\n",
       "      <td>984.100000</td>\n",
       "    </tr>\n",
       "    <tr>\n",
       "      <th>1999-05-31</th>\n",
       "      <td>23.550000</td>\n",
       "      <td>33.250000</td>\n",
       "      <td>992.875000</td>\n",
       "    </tr>\n",
       "    <tr>\n",
       "      <th>...</th>\n",
       "      <td>...</td>\n",
       "      <td>...</td>\n",
       "      <td>...</td>\n",
       "    </tr>\n",
       "    <tr>\n",
       "      <th>2019-06-30</th>\n",
       "      <td>22.900000</td>\n",
       "      <td>30.000000</td>\n",
       "      <td>990.750000</td>\n",
       "    </tr>\n",
       "    <tr>\n",
       "      <th>2019-07-31</th>\n",
       "      <td>24.050000</td>\n",
       "      <td>38.000000</td>\n",
       "      <td>995.600000</td>\n",
       "    </tr>\n",
       "    <tr>\n",
       "      <th>2019-08-31</th>\n",
       "      <td>23.600000</td>\n",
       "      <td>39.000000</td>\n",
       "      <td>983.300000</td>\n",
       "    </tr>\n",
       "    <tr>\n",
       "      <th>2019-09-30</th>\n",
       "      <td>24.500000</td>\n",
       "      <td>33.000000</td>\n",
       "      <td>983.900000</td>\n",
       "    </tr>\n",
       "    <tr>\n",
       "      <th>2019-10-31</th>\n",
       "      <td>22.600000</td>\n",
       "      <td>23.000000</td>\n",
       "      <td>989.000000</td>\n",
       "    </tr>\n",
       "  </tbody>\n",
       "</table>\n",
       "<p>250 rows × 3 columns</p>\n",
       "</div>"
      ],
      "text/plain": [
       "                 TLab       ULab     Pground\n",
       "Date                                        \n",
       "1999-01-31  21.800000  29.666667  982.655556\n",
       "1999-02-28  22.614286  26.142857  976.542857\n",
       "1999-03-31  22.428571  29.428571  990.214286\n",
       "1999-04-30  23.175000  31.500000  984.100000\n",
       "1999-05-31  23.550000  33.250000  992.875000\n",
       "...               ...        ...         ...\n",
       "2019-06-30  22.900000  30.000000  990.750000\n",
       "2019-07-31  24.050000  38.000000  995.600000\n",
       "2019-08-31  23.600000  39.000000  983.300000\n",
       "2019-09-30  24.500000  33.000000  983.900000\n",
       "2019-10-31  22.600000  23.000000  989.000000\n",
       "\n",
       "[250 rows x 3 columns]"
      ]
     },
     "execution_count": 34,
     "metadata": {},
     "output_type": "execute_result"
    }
   ],
   "source": [
    "upsampled[upsampled.index > '1999-01-01']"
   ]
  },
  {
   "cell_type": "code",
   "execution_count": 43,
   "metadata": {},
   "outputs": [
    {
     "data": {
      "text/plain": [
       "984.1804292929296"
      ]
     },
     "execution_count": 43,
     "metadata": {},
     "output_type": "execute_result"
    }
   ],
   "source": [
    "upsampled[upsampled.index.month == 1].mean()[2]"
   ]
  },
  {
   "cell_type": "code",
   "execution_count": 36,
   "metadata": {},
   "outputs": [
    {
     "data": {
      "text/plain": [
       "TLab        21.377500\n",
       "ULab        14.638889\n",
       "Pground    982.802778\n",
       "dtype: float64"
      ]
     },
     "execution_count": 36,
     "metadata": {},
     "output_type": "execute_result"
    }
   ],
   "source": [
    "upsampled[upsampled.index.month == 1].median()"
   ]
  },
  {
   "cell_type": "code",
   "execution_count": null,
   "metadata": {},
   "outputs": [],
   "source": []
  }
 ],
 "metadata": {
  "kernelspec": {
   "display_name": "Python 3",
   "language": "python",
   "name": "python3"
  },
  "language_info": {
   "codemirror_mode": {
    "name": "ipython",
    "version": 3
   },
   "file_extension": ".py",
   "mimetype": "text/x-python",
   "name": "python",
   "nbconvert_exporter": "python",
   "pygments_lexer": "ipython3",
   "version": "3.7.4"
  }
 },
 "nbformat": 4,
 "nbformat_minor": 2
}
